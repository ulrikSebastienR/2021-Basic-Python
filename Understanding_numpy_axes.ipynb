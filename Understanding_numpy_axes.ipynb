{
  "nbformat": 4,
  "nbformat_minor": 0,
  "metadata": {
    "colab": {
      "name": "Understanding numpy axes.ipynb",
      "provenance": [],
      "authorship_tag": "ABX9TyNHp8+B0V+lZ2DfuSPZrQ4B",
      "include_colab_link": true
    },
    "kernelspec": {
      "name": "python388jvsc74a57bd030cbd3e965238aee442cd134ba2a4340f1da52c92e9f694c89f6919b62caf41e",
      "display_name": "Python 3.8.8 64-bit ('nefaisrein': conda)"
    },
    "language_info": {
      "name": "python",
      "version": "3.8.8"
    }
  },
  "cells": [
    {
      "cell_type": "markdown",
      "metadata": {
        "id": "view-in-github",
        "colab_type": "text"
      },
      "source": [
        "<a href=\"https://colab.research.google.com/github/ulrikSebastienR/2021-Basic-Python/blob/main/Understanding_numpy_axes.ipynb\" target=\"_parent\"><img src=\"https://colab.research.google.com/assets/colab-badge.svg\" alt=\"Open In Colab\"/></a>"
      ]
    },
    {
      "cell_type": "code",
      "metadata": {
        "id": "So5FvEXGcYrc"
      },
      "source": [
        "import numpy as np"
      ],
      "execution_count": 1,
      "outputs": []
    },
    {
      "cell_type": "code",
      "metadata": {
        "colab": {
          "base_uri": "https://localhost:8080/"
        },
        "id": "ZnXnjIfGcl8B",
        "outputId": "4d0a3ec3-f246-47f9-ffcb-ecdf168e5a30"
      },
      "source": [
        "x = np.random.randint(1,1000,(5,4,3,2))\n",
        "x"
      ],
      "execution_count": 2,
      "outputs": [
        {
          "output_type": "execute_result",
          "data": {
            "text/plain": [
              "array([[[[162, 255],\n",
              "         [189, 318],\n",
              "         [868, 938]],\n",
              "\n",
              "        [[128, 325],\n",
              "         [149, 729],\n",
              "         [ 29, 667]],\n",
              "\n",
              "        [[570,  36],\n",
              "         [579, 696],\n",
              "         [195, 655]],\n",
              "\n",
              "        [[489, 956],\n",
              "         [ 69,  34],\n",
              "         [ 48, 373]]],\n",
              "\n",
              "\n",
              "       [[[788,  32],\n",
              "         [ 75, 275],\n",
              "         [204,  87]],\n",
              "\n",
              "        [[561, 927],\n",
              "         [483, 346],\n",
              "         [969, 545]],\n",
              "\n",
              "        [[579, 193],\n",
              "         [219, 127],\n",
              "         [226,  36]],\n",
              "\n",
              "        [[865, 875],\n",
              "         [181, 869],\n",
              "         [923, 855]]],\n",
              "\n",
              "\n",
              "       [[[730, 905],\n",
              "         [907, 263],\n",
              "         [761, 171]],\n",
              "\n",
              "        [[ 67, 639],\n",
              "         [167, 524],\n",
              "         [900, 117]],\n",
              "\n",
              "        [[992, 712],\n",
              "         [ 32, 296],\n",
              "         [946, 695]],\n",
              "\n",
              "        [[635, 234],\n",
              "         [785, 166],\n",
              "         [521, 847]]],\n",
              "\n",
              "\n",
              "       [[[525, 622],\n",
              "         [112, 402],\n",
              "         [453, 556]],\n",
              "\n",
              "        [[ 43, 205],\n",
              "         [101, 763],\n",
              "         [144, 215]],\n",
              "\n",
              "        [[374,  83],\n",
              "         [912, 374],\n",
              "         [795, 866]],\n",
              "\n",
              "        [[901, 292],\n",
              "         [510, 958],\n",
              "         [738, 892]]],\n",
              "\n",
              "\n",
              "       [[[276, 701],\n",
              "         [746, 271],\n",
              "         [249, 753]],\n",
              "\n",
              "        [[806, 752],\n",
              "         [715, 589],\n",
              "         [939, 669]],\n",
              "\n",
              "        [[854, 404],\n",
              "         [388,  77],\n",
              "         [581, 999]],\n",
              "\n",
              "        [[ 36, 878],\n",
              "         [748, 272],\n",
              "         [851, 382]]]])"
            ]
          },
          "metadata": {},
          "execution_count": 2
        }
      ]
    },
    {
      "cell_type": "code",
      "metadata": {
        "colab": {
          "base_uri": "https://localhost:8080/"
        },
        "id": "3KXJzDQzcssN",
        "outputId": "6e8d654e-d6c4-438a-ef05-92eee110a0a7"
      },
      "source": [
        "x[0,:,:,:]\n"
      ],
      "execution_count": 3,
      "outputs": [
        {
          "output_type": "execute_result",
          "data": {
            "text/plain": [
              "array([[[162, 255],\n",
              "        [189, 318],\n",
              "        [868, 938]],\n",
              "\n",
              "       [[128, 325],\n",
              "        [149, 729],\n",
              "        [ 29, 667]],\n",
              "\n",
              "       [[570,  36],\n",
              "        [579, 696],\n",
              "        [195, 655]],\n",
              "\n",
              "       [[489, 956],\n",
              "        [ 69,  34],\n",
              "        [ 48, 373]]])"
            ]
          },
          "metadata": {},
          "execution_count": 3
        }
      ]
    },
    {
      "cell_type": "code",
      "metadata": {
        "colab": {
          "base_uri": "https://localhost:8080/"
        },
        "id": "9YOVP-PTef1q",
        "outputId": "a55552ea-07e2-404a-d3ad-0055aa4b57a3"
      },
      "source": [
        "x[1,:,:,:]"
      ],
      "execution_count": 4,
      "outputs": [
        {
          "output_type": "execute_result",
          "data": {
            "text/plain": [
              "array([[[788,  32],\n",
              "        [ 75, 275],\n",
              "        [204,  87]],\n",
              "\n",
              "       [[561, 927],\n",
              "        [483, 346],\n",
              "        [969, 545]],\n",
              "\n",
              "       [[579, 193],\n",
              "        [219, 127],\n",
              "        [226,  36]],\n",
              "\n",
              "       [[865, 875],\n",
              "        [181, 869],\n",
              "        [923, 855]]])"
            ]
          },
          "metadata": {},
          "execution_count": 4
        }
      ]
    },
    {
      "cell_type": "code",
      "metadata": {
        "colab": {
          "base_uri": "https://localhost:8080/"
        },
        "id": "v5wh-0K4c30B",
        "outputId": "74b5d03f-09d9-4b71-ec91-45187063be8d"
      },
      "source": [
        "x[:,0,:,:]\n"
      ],
      "execution_count": 5,
      "outputs": [
        {
          "output_type": "execute_result",
          "data": {
            "text/plain": [
              "array([[[162, 255],\n",
              "        [189, 318],\n",
              "        [868, 938]],\n",
              "\n",
              "       [[788,  32],\n",
              "        [ 75, 275],\n",
              "        [204,  87]],\n",
              "\n",
              "       [[730, 905],\n",
              "        [907, 263],\n",
              "        [761, 171]],\n",
              "\n",
              "       [[525, 622],\n",
              "        [112, 402],\n",
              "        [453, 556]],\n",
              "\n",
              "       [[276, 701],\n",
              "        [746, 271],\n",
              "        [249, 753]]])"
            ]
          },
          "metadata": {},
          "execution_count": 5
        }
      ]
    },
    {
      "cell_type": "code",
      "metadata": {
        "colab": {
          "base_uri": "https://localhost:8080/"
        },
        "id": "vqjYNn-5ea08",
        "outputId": "728417e0-db00-4c7c-8ebb-43e017f49f94"
      },
      "source": [
        "x[:,1,:,:]"
      ],
      "execution_count": 6,
      "outputs": [
        {
          "output_type": "execute_result",
          "data": {
            "text/plain": [
              "array([[[128, 325],\n",
              "        [149, 729],\n",
              "        [ 29, 667]],\n",
              "\n",
              "       [[561, 927],\n",
              "        [483, 346],\n",
              "        [969, 545]],\n",
              "\n",
              "       [[ 67, 639],\n",
              "        [167, 524],\n",
              "        [900, 117]],\n",
              "\n",
              "       [[ 43, 205],\n",
              "        [101, 763],\n",
              "        [144, 215]],\n",
              "\n",
              "       [[806, 752],\n",
              "        [715, 589],\n",
              "        [939, 669]]])"
            ]
          },
          "metadata": {},
          "execution_count": 6
        }
      ]
    },
    {
      "cell_type": "code",
      "metadata": {
        "colab": {
          "base_uri": "https://localhost:8080/"
        },
        "id": "LbTbZIjYdBUp",
        "outputId": "21470174-2b2e-4b3b-f0c1-b6485a28c604"
      },
      "source": [
        "x[:,:,0,:]\n"
      ],
      "execution_count": 7,
      "outputs": [
        {
          "output_type": "execute_result",
          "data": {
            "text/plain": [
              "array([[[162, 255],\n",
              "        [128, 325],\n",
              "        [570,  36],\n",
              "        [489, 956]],\n",
              "\n",
              "       [[788,  32],\n",
              "        [561, 927],\n",
              "        [579, 193],\n",
              "        [865, 875]],\n",
              "\n",
              "       [[730, 905],\n",
              "        [ 67, 639],\n",
              "        [992, 712],\n",
              "        [635, 234]],\n",
              "\n",
              "       [[525, 622],\n",
              "        [ 43, 205],\n",
              "        [374,  83],\n",
              "        [901, 292]],\n",
              "\n",
              "       [[276, 701],\n",
              "        [806, 752],\n",
              "        [854, 404],\n",
              "        [ 36, 878]]])"
            ]
          },
          "metadata": {},
          "execution_count": 7
        }
      ]
    },
    {
      "cell_type": "code",
      "metadata": {
        "colab": {
          "base_uri": "https://localhost:8080/"
        },
        "id": "pBaYSdjTeXoc",
        "outputId": "0756eb69-e261-4911-c5b0-365b15b06841"
      },
      "source": [
        "x[:,:,1,:]"
      ],
      "execution_count": 8,
      "outputs": [
        {
          "output_type": "execute_result",
          "data": {
            "text/plain": [
              "array([[[189, 318],\n",
              "        [149, 729],\n",
              "        [579, 696],\n",
              "        [ 69,  34]],\n",
              "\n",
              "       [[ 75, 275],\n",
              "        [483, 346],\n",
              "        [219, 127],\n",
              "        [181, 869]],\n",
              "\n",
              "       [[907, 263],\n",
              "        [167, 524],\n",
              "        [ 32, 296],\n",
              "        [785, 166]],\n",
              "\n",
              "       [[112, 402],\n",
              "        [101, 763],\n",
              "        [912, 374],\n",
              "        [510, 958]],\n",
              "\n",
              "       [[746, 271],\n",
              "        [715, 589],\n",
              "        [388,  77],\n",
              "        [748, 272]]])"
            ]
          },
          "metadata": {},
          "execution_count": 8
        }
      ]
    },
    {
      "cell_type": "code",
      "metadata": {
        "colab": {
          "base_uri": "https://localhost:8080/"
        },
        "id": "3hO_enXsdJN5",
        "outputId": "bfec4c68-98ee-46f2-fb42-24cee215950e"
      },
      "source": [
        "x[:,:,:,0]\n"
      ],
      "execution_count": 9,
      "outputs": [
        {
          "output_type": "execute_result",
          "data": {
            "text/plain": [
              "array([[[162, 189, 868],\n",
              "        [128, 149,  29],\n",
              "        [570, 579, 195],\n",
              "        [489,  69,  48]],\n",
              "\n",
              "       [[788,  75, 204],\n",
              "        [561, 483, 969],\n",
              "        [579, 219, 226],\n",
              "        [865, 181, 923]],\n",
              "\n",
              "       [[730, 907, 761],\n",
              "        [ 67, 167, 900],\n",
              "        [992,  32, 946],\n",
              "        [635, 785, 521]],\n",
              "\n",
              "       [[525, 112, 453],\n",
              "        [ 43, 101, 144],\n",
              "        [374, 912, 795],\n",
              "        [901, 510, 738]],\n",
              "\n",
              "       [[276, 746, 249],\n",
              "        [806, 715, 939],\n",
              "        [854, 388, 581],\n",
              "        [ 36, 748, 851]]])"
            ]
          },
          "metadata": {},
          "execution_count": 9
        }
      ]
    },
    {
      "cell_type": "code",
      "metadata": {
        "colab": {
          "base_uri": "https://localhost:8080/"
        },
        "id": "nTWL2bO2eUNs",
        "outputId": "21b34c35-c317-4aff-a6db-28027080ca34"
      },
      "source": [
        "x[:,:,:,1]"
      ],
      "execution_count": 10,
      "outputs": [
        {
          "output_type": "execute_result",
          "data": {
            "text/plain": [
              "array([[[255, 318, 938],\n",
              "        [325, 729, 667],\n",
              "        [ 36, 696, 655],\n",
              "        [956,  34, 373]],\n",
              "\n",
              "       [[ 32, 275,  87],\n",
              "        [927, 346, 545],\n",
              "        [193, 127,  36],\n",
              "        [875, 869, 855]],\n",
              "\n",
              "       [[905, 263, 171],\n",
              "        [639, 524, 117],\n",
              "        [712, 296, 695],\n",
              "        [234, 166, 847]],\n",
              "\n",
              "       [[622, 402, 556],\n",
              "        [205, 763, 215],\n",
              "        [ 83, 374, 866],\n",
              "        [292, 958, 892]],\n",
              "\n",
              "       [[701, 271, 753],\n",
              "        [752, 589, 669],\n",
              "        [404,  77, 999],\n",
              "        [878, 272, 382]]])"
            ]
          },
          "metadata": {},
          "execution_count": 10
        }
      ]
    },
    {
      "cell_type": "code",
      "metadata": {
        "colab": {
          "base_uri": "https://localhost:8080/"
        },
        "id": "wfkTG6TQde9Z",
        "outputId": "3fd485cd-73b7-444e-e2ae-5736b5accc6f"
      },
      "source": [
        "x=np.random.randint(1,100,(4,3,2))\n",
        "x"
      ],
      "execution_count": 11,
      "outputs": [
        {
          "output_type": "execute_result",
          "data": {
            "text/plain": [
              "array([[[33, 42],\n",
              "        [35, 24],\n",
              "        [22, 11]],\n",
              "\n",
              "       [[43, 17],\n",
              "        [53, 10],\n",
              "        [43, 35]],\n",
              "\n",
              "       [[98, 94],\n",
              "        [97, 40],\n",
              "        [81, 54]],\n",
              "\n",
              "       [[56,  7],\n",
              "        [88, 71],\n",
              "        [99, 67]]])"
            ]
          },
          "metadata": {},
          "execution_count": 11
        }
      ]
    },
    {
      "cell_type": "code",
      "metadata": {
        "colab": {
          "base_uri": "https://localhost:8080/"
        },
        "id": "17ZqCHYldhHn",
        "outputId": "56ada1fb-a4e0-4945-cfd0-3cad60dd8324"
      },
      "source": [
        "x[0,:,:]\n"
      ],
      "execution_count": 12,
      "outputs": [
        {
          "output_type": "execute_result",
          "data": {
            "text/plain": [
              "array([[33, 42],\n",
              "       [35, 24],\n",
              "       [22, 11]])"
            ]
          },
          "metadata": {},
          "execution_count": 12
        }
      ]
    },
    {
      "cell_type": "code",
      "metadata": {
        "colab": {
          "base_uri": "https://localhost:8080/"
        },
        "id": "4bsMaIodeOSf",
        "outputId": "f6ce21c8-db95-4293-d7d7-dde84955aa09"
      },
      "source": [
        "x[1,:,:]"
      ],
      "execution_count": 13,
      "outputs": [
        {
          "output_type": "execute_result",
          "data": {
            "text/plain": [
              "array([[43, 17],\n",
              "       [53, 10],\n",
              "       [43, 35]])"
            ]
          },
          "metadata": {},
          "execution_count": 13
        }
      ]
    },
    {
      "cell_type": "code",
      "metadata": {
        "colab": {
          "base_uri": "https://localhost:8080/"
        },
        "id": "W9zzyN4zdnsy",
        "outputId": "f39586aa-1448-4038-c97c-8f2fb63548d5"
      },
      "source": [
        "x[:,0,:]\n"
      ],
      "execution_count": 14,
      "outputs": [
        {
          "output_type": "execute_result",
          "data": {
            "text/plain": [
              "array([[33, 42],\n",
              "       [43, 17],\n",
              "       [98, 94],\n",
              "       [56,  7]])"
            ]
          },
          "metadata": {},
          "execution_count": 14
        }
      ]
    },
    {
      "cell_type": "code",
      "metadata": {
        "colab": {
          "base_uri": "https://localhost:8080/"
        },
        "id": "J-n2FIYfeJIB",
        "outputId": "019b4055-9646-41e3-f7cb-f5704359c8ce"
      },
      "source": [
        "x[:,1,:]"
      ],
      "execution_count": 15,
      "outputs": [
        {
          "output_type": "execute_result",
          "data": {
            "text/plain": [
              "array([[35, 24],\n",
              "       [53, 10],\n",
              "       [97, 40],\n",
              "       [88, 71]])"
            ]
          },
          "metadata": {},
          "execution_count": 15
        }
      ]
    },
    {
      "cell_type": "code",
      "metadata": {
        "colab": {
          "base_uri": "https://localhost:8080/"
        },
        "id": "DnXO2PCudvqc",
        "outputId": "ff69c47b-9cc8-4458-8b2c-d8934c423697"
      },
      "source": [
        "x[:,:,0]\n"
      ],
      "execution_count": 16,
      "outputs": [
        {
          "output_type": "execute_result",
          "data": {
            "text/plain": [
              "array([[33, 35, 22],\n",
              "       [43, 53, 43],\n",
              "       [98, 97, 81],\n",
              "       [56, 88, 99]])"
            ]
          },
          "metadata": {},
          "execution_count": 16
        }
      ]
    },
    {
      "cell_type": "code",
      "metadata": {
        "colab": {
          "base_uri": "https://localhost:8080/"
        },
        "id": "229HeUeceAl1",
        "outputId": "bbc9c43f-8a4b-4b6b-9f32-1a58bdf39e20"
      },
      "source": [
        "x[:,:,1]"
      ],
      "execution_count": 17,
      "outputs": [
        {
          "output_type": "execute_result",
          "data": {
            "text/plain": [
              "array([[42, 24, 11],\n",
              "       [17, 10, 35],\n",
              "       [94, 40, 54],\n",
              "       [ 7, 71, 67]])"
            ]
          },
          "metadata": {},
          "execution_count": 17
        }
      ]
    },
    {
      "cell_type": "code",
      "metadata": {
        "id": "2Toi86IveBdu"
      },
      "source": [],
      "execution_count": 37,
      "outputs": []
    }
  ]
}