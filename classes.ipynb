{
  "nbformat": 4,
  "nbformat_minor": 0,
  "metadata": {
    "colab": {
      "name": "classes.ipynb",
      "provenance": [],
      "authorship_tag": "ABX9TyM6pHZzt6KXeMC3lXHDTro/",
      "include_colab_link": true
    },
    "kernelspec": {
      "name": "python3",
      "display_name": "Python 3"
    },
    "language_info": {
      "name": "python"
    }
  },
  "cells": [
    {
      "cell_type": "markdown",
      "metadata": {
        "id": "view-in-github",
        "colab_type": "text"
      },
      "source": [
        "<a href=\"https://colab.research.google.com/github/ulrikSebastienR/2021-Coding-Basic/blob/main/classes.ipynb\" target=\"_parent\"><img src=\"https://colab.research.google.com/assets/colab-badge.svg\" alt=\"Open In Colab\"/></a>"
      ]
    },
    {
      "cell_type": "code",
      "metadata": {
        "id": "gqbovcxo_wu8",
        "colab": {
          "base_uri": "https://localhost:8080/"
        },
        "outputId": "245267d2-d5be-4a8e-98fa-680c00001077"
      },
      "source": [
        "#https://realpython.com/python3-object-oriented-programming/\n",
        "class Dog:\n",
        "    pass\n",
        "\n",
        "class Dog:\n",
        "    species = 'Le chien'\n",
        "\n",
        "    def __init__(self, name, age):\n",
        "        self.name = name\n",
        "        self.age = age\n",
        "\n",
        "    def description(self):\n",
        "        return f'{self.name} is {self.age} years old'\n",
        "\n",
        "    def speak(self, sound):\n",
        "        return f'I am {self.name}, {self.age} years old and I speak {str(sound).upper()}'\n",
        "\n",
        "    \n",
        "a = Dog('Miles', 10)\n",
        "b = Dog('sultan', 4)\n",
        "\n",
        "print(a.species)\n",
        "print(b.species)\n",
        "\n",
        "print(a.name)\n",
        "print(b.name)\n",
        "print(a.age)\n",
        "print(b.age)\n",
        "\n",
        "a.name = 'Rak' # we can change instance attributes at run time.\n",
        "a.age = 1343\n",
        "b.name = 'Mint'\n",
        "b.age = 32\n",
        "\n",
        "print(a.name)\n",
        "print(b.name)\n",
        "print(a.age)\n",
        "print(b.age)\n",
        "\n",
        "print(a.description())\n",
        "print(b.description())\n",
        "\n",
        "print(a.speak('his almighty'))\n",
        "print(b.speak('licks feet'))\n",
        "\n",
        "class JackRussellTerrier(Dog):\n",
        "    pass\n",
        "\n",
        "class Dachshund(Dog):\n",
        "    pass\n",
        "\n",
        "class Bulldog(Dog):\n",
        "    pass\n",
        "\n",
        "miles = JackRussellTerrier('Miles', 4)\n",
        "buddy = Dachshund('Buddy',9)\n",
        "jack = Bulldog('Jack', 3)\n",
        "jim = Bulldog('Jim', 5)\n",
        "\n",
        "print()\n",
        "print(miles.name)\n",
        "print(miles.age)\n",
        "print(miles.species)\n",
        "print(miles.description())\n",
        "print(miles.speak('mo mo'))\n",
        "\n",
        "print(type(miles))\n",
        "print(isinstance(miles, Dog))\n",
        "\n",
        "#Method overriding\n",
        "class JackRussellTerrier(Dog):\n",
        "    def speak(self, food='Pedigree'):\n",
        "        return f'je suis {self.name} de {self.age} ans et mange {food}'\n",
        "\n",
        "print()\n",
        "miles = JackRussellTerrier('Miles', 5) # Note that you need to redefine the object Miles otherwise it will take the values from the last time it was defined.\n",
        "print(miles)\n",
        "print(miles.speak()) #outputs the new child class string without providing sound\n",
        "print(miles.speak('Ludendorf'))\n",
        "\n",
        "#accessing parent class from inside a method of child class\n",
        "class JackRussellTerrier(Dog):\n",
        "    def speak(self, food = 'Pedigree'):\n",
        "        return super().speak(food)\n",
        "\n",
        "miles = JackRussellTerrier('Miles',5)\n",
        "print(miles.speak())\n",
        "\n"
      ],
      "execution_count": 2,
      "outputs": [
        {
          "output_type": "stream",
          "text": [
            "Le chien\n",
            "Le chien\n",
            "Miles\n",
            "sultan\n",
            "10\n",
            "4\n",
            "Rak\n",
            "Mint\n",
            "1343\n",
            "32\n",
            "Rak is 1343 years old\n",
            "Mint is 32 years old\n",
            "I am Rak, 1343 years old and I speak HIS ALMIGHTY\n",
            "I am Mint, 32 years old and I speak LICKS FEET\n",
            "\n",
            "Miles\n",
            "4\n",
            "Le chien\n",
            "Miles is 4 years old\n",
            "I am Miles, 4 years old and I speak MO MO\n",
            "<class '__main__.JackRussellTerrier'>\n",
            "True\n",
            "\n",
            "<__main__.JackRussellTerrier object at 0x7f4541599f90>\n",
            "je suis Miles de 5 ans et mange Pedigree\n",
            "je suis Miles de 5 ans et mange Ludendorf\n",
            "I am Miles, 5 years old and I speak PEDIGREE\n"
          ],
          "name": "stdout"
        }
      ]
    }
  ]
}