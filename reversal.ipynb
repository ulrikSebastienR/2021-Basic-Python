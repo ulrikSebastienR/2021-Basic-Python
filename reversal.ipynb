{
  "nbformat": 4,
  "nbformat_minor": 0,
  "metadata": {
    "colab": {
      "name": "reversal.ipynb",
      "provenance": [],
      "collapsed_sections": [],
      "authorship_tag": "ABX9TyOXlJOdWyBkTkCwL5yPl6kR",
      "include_colab_link": true
    },
    "kernelspec": {
      "name": "python3",
      "display_name": "Python 3"
    },
    "language_info": {
      "name": "python"
    }
  },
  "cells": [
    {
      "cell_type": "markdown",
      "metadata": {
        "id": "view-in-github",
        "colab_type": "text"
      },
      "source": [
        "<a href=\"https://colab.research.google.com/github/ulrikSebastienR/2021-Coding-Basic/blob/main/reversal.ipynb\" target=\"_parent\"><img src=\"https://colab.research.google.com/assets/colab-badge.svg\" alt=\"Open In Colab\"/></a>"
      ]
    },
    {
      "cell_type": "code",
      "metadata": {
        "colab": {
          "base_uri": "https://localhost:8080/"
        },
        "id": "kZSJEJm-VIZC",
        "outputId": "dd420944-bf87-47bc-c735-625f34084116"
      },
      "source": [
        "# reverse a list\n",
        "l = ['I', 1, 2, 3, 4, 5, 6, 7]\n",
        "print(l[::-1]) #METHOD 1\n",
        "#or\n",
        "print(reversed(l))\n",
        "print(list(reversed(l))) #METHOD 2"
      ],
      "execution_count": 6,
      "outputs": [
        {
          "output_type": "stream",
          "text": [
            "[7, 6, 5, 4, 3, 2, 1, 'I']\n",
            "<list_reverseiterator object at 0x7f08fb361ad0>\n",
            "[7, 6, 5, 4, 3, 2, 1, 'I']\n"
          ],
          "name": "stdout"
        }
      ]
    },
    {
      "cell_type": "code",
      "metadata": {
        "id": "1yvR-6BgUEcP"
      },
      "source": [
        "#reverse a dictionary"
      ],
      "execution_count": null,
      "outputs": []
    },
    {
      "cell_type": "code",
      "metadata": {
        "colab": {
          "base_uri": "https://localhost:8080/"
        },
        "id": "mAv3Ag7YU7LB",
        "outputId": "f635d8ad-0b2d-4490-bd63-42ca1fe161f3"
      },
      "source": [
        "d = {'I': 'am',\n",
        "'a': 'guy',\n",
        "'from': 'earth',\n",
        "'to': 'your',\n",
        "'planet' : 'robots'\n",
        "}\n",
        "print(list(d.items()))\n",
        "print(list(reversed(list(d.items()))))\n",
        "print(dict(list(reversed(list(d.items())))))\n"
      ],
      "execution_count": 9,
      "outputs": [
        {
          "output_type": "stream",
          "text": [
            "[('I', 'am'), ('a', 'guy'), ('from', 'earth'), ('to', 'your'), ('planet', 'robots')]\n",
            "[('planet', 'robots'), ('to', 'your'), ('from', 'earth'), ('a', 'guy'), ('I', 'am')]\n",
            "{'planet': 'robots', 'to': 'your', 'from': 'earth', 'a': 'guy', 'I': 'am'}\n"
          ],
          "name": "stdout"
        }
      ]
    },
    {
      "cell_type": "code",
      "metadata": {
        "id": "Ad8uGOhJVBXv"
      },
      "source": [
        "#print(d)"
      ],
      "execution_count": null,
      "outputs": []
    },
    {
      "cell_type": "code",
      "metadata": {
        "id": "kxTR4VFDVByl"
      },
      "source": [
        ""
      ],
      "execution_count": null,
      "outputs": []
    }
  ]
}