{
  "nbformat": 4,
  "nbformat_minor": 0,
  "metadata": {
    "colab": {
      "name": "Sum & average & args.ipynb",
      "provenance": [],
      "collapsed_sections": [],
      "authorship_tag": "ABX9TyOhUx57DzjQjC/R3X2JNGYO",
      "include_colab_link": true
    },
    "kernelspec": {
      "name": "python3",
      "display_name": "Python 3"
    },
    "language_info": {
      "name": "python"
    }
  },
  "cells": [
    {
      "cell_type": "markdown",
      "metadata": {
        "id": "view-in-github",
        "colab_type": "text"
      },
      "source": [
        "<a href=\"https://colab.research.google.com/github/ulrikSebastienR/2021-Coding-Basic/blob/main/Sum_average_args.ipynb\" target=\"_parent\"><img src=\"https://colab.research.google.com/assets/colab-badge.svg\" alt=\"Open In Colab\"/></a>"
      ]
    },
    {
      "cell_type": "code",
      "metadata": {
        "id": "oU4dL8Ectbgb",
        "colab": {
          "base_uri": "https://localhost:8080/"
        },
        "outputId": "05676bc8-45ce-4d04-90ed-5f94a728c4a7"
      },
      "source": [
        "# sum and mean of any numbers\n",
        "import numpy as np\n",
        "from functools import reduce\n",
        "\n",
        "def mean(*numbers):\n",
        "    total = reduce(lambda x,y: x+y, numbers)\n",
        "    return total/len(numbers)\n",
        "\n",
        "print(mean(1,2,3,4,5))"
      ],
      "execution_count": 1,
      "outputs": [
        {
          "output_type": "stream",
          "name": "stdout",
          "text": [
            "3.0\n"
          ]
        }
      ]
    },
    {
      "cell_type": "code",
      "metadata": {
        "id": "VRoNubBNtrxa",
        "colab": {
          "base_uri": "https://localhost:8080/"
        },
        "outputId": "0cb0716c-eb48-421c-f29a-1460e7525e17"
      },
      "source": [
        "# sum and mean of a list\n",
        "import numpy as np\n",
        "from functools import reduce\n",
        "\n",
        "seq = np.linspace(1,10,10)\n",
        "print(seq, type(seq),seq.shape, len(seq), sep='\\n')\n",
        "\n",
        "def mean(*numbers):\n",
        "    total = reduce(lambda x,y: x+y, seq)\n",
        "    return total/len(seq)\n",
        "    \n",
        "print(mean(seq))"
      ],
      "execution_count": 2,
      "outputs": [
        {
          "output_type": "stream",
          "name": "stdout",
          "text": [
            "[ 1.  2.  3.  4.  5.  6.  7.  8.  9. 10.]\n",
            "<class 'numpy.ndarray'>\n",
            "(10,)\n",
            "10\n",
            "5.5\n"
          ]
        }
      ]
    }
  ]
}