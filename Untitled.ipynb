{
 "cells": [
  {
   "cell_type": "code",
   "execution_count": 2,
   "id": "complicated-white",
   "metadata": {},
   "outputs": [],
   "source": [
    "import numpy as np\n",
    "import matplotlib.pyplot as plt"
   ]
  },
  {
   "cell_type": "code",
   "execution_count": 6,
   "id": "timely-degree",
   "metadata": {},
   "outputs": [
    {
     "output_type": "execute_result",
     "data": {
      "text/plain": [
       "array([[[[727],\n",
       "         [909]],\n",
       "\n",
       "        [[350],\n",
       "         [284]],\n",
       "\n",
       "        [[881],\n",
       "         [ 31]]],\n",
       "\n",
       "\n",
       "       [[[813],\n",
       "         [505]],\n",
       "\n",
       "        [[319],\n",
       "         [269]],\n",
       "\n",
       "        [[420],\n",
       "         [277]]],\n",
       "\n",
       "\n",
       "       [[[413],\n",
       "         [ 81]],\n",
       "\n",
       "        [[444],\n",
       "         [569]],\n",
       "\n",
       "        [[225],\n",
       "         [872]]],\n",
       "\n",
       "\n",
       "       [[[858],\n",
       "         [833]],\n",
       "\n",
       "        [[143],\n",
       "         [983]],\n",
       "\n",
       "        [[786],\n",
       "         [875]]]])"
      ]
     },
     "metadata": {},
     "execution_count": 6
    }
   ],
   "source": [
    "x = np.random.randint(0,1000,(4,3,2,1))\n",
    "x"
   ]
  },
  {
   "cell_type": "code",
   "execution_count": null,
   "metadata": {},
   "outputs": [],
   "source": []
  }
 ],
 "metadata": {
  "kernelspec": {
   "name": "python388jvsc74a57bd030cbd3e965238aee442cd134ba2a4340f1da52c92e9f694c89f6919b62caf41e",
   "display_name": "Python 3.8.8 64-bit ('nefaisrein': conda)"
  },
  "language_info": {
   "codemirror_mode": {
    "name": "ipython",
    "version": 3
   },
   "file_extension": ".py",
   "mimetype": "text/x-python",
   "name": "python",
   "nbconvert_exporter": "python",
   "pygments_lexer": "ipython3",
   "version": "3.8.8"
  }
 },
 "nbformat": 4,
 "nbformat_minor": 5
}