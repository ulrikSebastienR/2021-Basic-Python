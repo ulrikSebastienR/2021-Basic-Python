{
  "nbformat": 4,
  "nbformat_minor": 0,
  "metadata": {
    "colab": {
      "name": "outlier detection.ipynb",
      "provenance": [],
      "authorship_tag": "ABX9TyPHcwzX423LuVWBBuoRtvXx",
      "include_colab_link": true
    },
    "kernelspec": {
      "name": "python3",
      "display_name": "Python 3"
    },
    "language_info": {
      "name": "python"
    }
  },
  "cells": [
    {
      "cell_type": "markdown",
      "metadata": {
        "id": "view-in-github",
        "colab_type": "text"
      },
      "source": [
        "<a href=\"https://colab.research.google.com/github/ulrikSebastienR/2021-Coding-Basic/blob/main/outlier_detection.ipynb\" target=\"_parent\"><img src=\"https://colab.research.google.com/assets/colab-badge.svg\" alt=\"Open In Colab\"/></a>"
      ]
    },
    {
      "cell_type": "code",
      "metadata": {
        "id": "XsSdEC3aBpXi"
      },
      "source": [
        "#https://www.kdnuggets.com/2017/02/removing-outliers-standard-deviation-python.html\n",
        "import pandas as pd\n",
        "import numpy as np"
      ],
      "execution_count": null,
      "outputs": []
    },
    {
      "cell_type": "code",
      "metadata": {
        "id": "gVKMrD4HCWKx",
        "colab": {
          "base_uri": "https://localhost:8080/"
        },
        "outputId": "ca504861-7c79-4902-ff04-a57b530a3274"
      },
      "source": [
        "# Using standard deviation https://www.kdnuggets.com/2017/02/removing-outliers-standard-deviation-python.html\n",
        "arr = [10, 386, 479, 627, 20, 523, 482, 483, 542, 699, 535, 617, 577, 471, 615, 583, 441, 562, 563, 527, 453, 530, 433, 541, 585, 704, 443, 569, 430, 637, 331, 511, 552, 496, 484, 566, 554, 472, 335, 440, 579, 341, 545, 615, 548, 604, 439, 556, 442, 461, 624, 611, 444, 578, 405, 487, 490, 496, 398, 512, 422, 455, 449, 432, 607, 679, 434, 597, 639, 565, 415, 486, 668, 414, 665, 763, 557, 304, 404, 454, 689, 610, 483, 441, 657, 590, 492, 476, 437, 483, 529, 363, 711, 543]\n",
        "import numpy as np\n",
        "a = [10, 386, 479, 627, 20, 523, 482, 483, 542, 699, 535, 617, 577, 471, 615, 583, 441, 562, 563, 527, 453, 530, 433, 541, 585, 704, 443, 569, 430, 637, 331, 511, 552, 496, 484, 566, 554, 472, 335, 440, 579, 341, 545, 615, 548, 604, 439, 556, 442, 461, 624, 611, 444, 578, 405, 487, 490, 496, 398, 512, 422, 455, 449, 432, 607, 679, 434, 597, 639, 565, 415, 486, 668, 414, 665, 763, 557, 304, 404, 454, 689, 610, 483, 441, 657, 590, 492, 476, 437, 483, 529, 363, 711, 543]\n",
        "print(len(a),np.min(a),np.max(a),np.mean(a),np.std(a))\n",
        "outliers = []\n",
        "ll = np.mean(a)- np.std(a)\n",
        "ul = np.mean(a)+ np.std(a)\n",
        "print('lower limit=',ll,'upper limit=',ul)\n",
        "'''for i in a:\n",
        "    if i<ll or i>ul:\n",
        "        outlier = i\n",
        "        outliers.append(outlier)\n",
        "        a.remove(outlier)\n",
        "        #this code is also correct but the lower code is shorter'''\n",
        "outlier = [i for i in a if i<ll]\n",
        "#a = a.remove(i for i in a if i<ll)\n",
        "outlier1 = [i for i in a if i>ul]\n",
        "outliers = outlier + outlier1\n",
        "print('outliers',outliers, len(outliers))\n",
        "a1 = [i for i in a if i not in outliers]\n",
        "#a1 = [i in a if i not in outliers]\n",
        "print('array without outliers =', a1, len(a1), np.min(a1), np.max(a1))"
      ],
      "execution_count": null,
      "outputs": [
        {
          "output_type": "stream",
          "text": [
            "94 10 763 509.531914893617 118.51857760182034\n",
            "lower limit= 391.0133372917967 upper limit= 628.0504924954373\n",
            "outliers [10, 386, 20, 331, 335, 341, 304, 363, 699, 704, 637, 679, 639, 668, 665, 763, 689, 657, 711] 19\n",
            "array without outliers = [479, 627, 523, 482, 483, 542, 535, 617, 577, 471, 615, 583, 441, 562, 563, 527, 453, 530, 433, 541, 585, 443, 569, 430, 511, 552, 496, 484, 566, 554, 472, 440, 579, 545, 615, 548, 604, 439, 556, 442, 461, 624, 611, 444, 578, 405, 487, 490, 496, 398, 512, 422, 455, 449, 432, 607, 434, 597, 565, 415, 486, 414, 557, 404, 454, 610, 483, 441, 590, 492, 476, 437, 483, 529, 543] 75 398 627\n"
          ],
          "name": "stdout"
        }
      ]
    },
    {
      "cell_type": "code",
      "metadata": {
        "id": "ksQi2GWUcXEN",
        "colab": {
          "base_uri": "https://localhost:8080/"
        },
        "outputId": "bb4aa273-7868-45b5-feab-13ae77d75329"
      },
      "source": [
        "#https://machinelearningmastery.com/model-based-outlier-detection-and-removal-in-python/\n",
        "from sklearn.ensemble import IsolationForest\n",
        "from sklearn import datasets\n",
        "from sklearn.model_selection import train_test_split\n",
        "import pandas as pd\n",
        "from sklearn.linear_model import LinearRegression\n",
        "\n",
        "url = 'https://raw.githubusercontent.com/jbrownlee/Datasets/master/housing.csv'\n",
        "\n",
        "df = pd.read_csv(url, header=None)\n",
        "print(df.describe())\n",
        "print(df.values.shape, df.values)"
      ],
      "execution_count": 1,
      "outputs": [
        {
          "output_type": "stream",
          "text": [
            "               0           1           2   ...          11          12          13\n",
            "count  506.000000  506.000000  506.000000  ...  506.000000  506.000000  506.000000\n",
            "mean     3.613524   11.363636   11.136779  ...  356.674032   12.653063   22.532806\n",
            "std      8.601545   23.322453    6.860353  ...   91.294864    7.141062    9.197104\n",
            "min      0.006320    0.000000    0.460000  ...    0.320000    1.730000    5.000000\n",
            "25%      0.082045    0.000000    5.190000  ...  375.377500    6.950000   17.025000\n",
            "50%      0.256510    0.000000    9.690000  ...  391.440000   11.360000   21.200000\n",
            "75%      3.677082   12.500000   18.100000  ...  396.225000   16.955000   25.000000\n",
            "max     88.976200  100.000000   27.740000  ...  396.900000   37.970000   50.000000\n",
            "\n",
            "[8 rows x 14 columns]\n",
            "(506, 14) [[6.3200e-03 1.8000e+01 2.3100e+00 ... 3.9690e+02 4.9800e+00 2.4000e+01]\n",
            " [2.7310e-02 0.0000e+00 7.0700e+00 ... 3.9690e+02 9.1400e+00 2.1600e+01]\n",
            " [2.7290e-02 0.0000e+00 7.0700e+00 ... 3.9283e+02 4.0300e+00 3.4700e+01]\n",
            " ...\n",
            " [6.0760e-02 0.0000e+00 1.1930e+01 ... 3.9690e+02 5.6400e+00 2.3900e+01]\n",
            " [1.0959e-01 0.0000e+00 1.1930e+01 ... 3.9345e+02 6.4800e+00 2.2000e+01]\n",
            " [4.7410e-02 0.0000e+00 1.1930e+01 ... 3.9690e+02 7.8800e+00 1.1900e+01]]\n"
          ],
          "name": "stdout"
        }
      ]
    },
    {
      "cell_type": "code",
      "metadata": {
        "colab": {
          "base_uri": "https://localhost:8080/"
        },
        "id": "hrVg1vZDQgQf",
        "outputId": "b6c39efc-57ef-4341-87fb-1b431e7b52a0"
      },
      "source": [
        "#separating X and y\n",
        "X = df.iloc[:,:-1]\n",
        "y = df.iloc[:, -1]\n",
        "print(\"X\",X,\"y\",y)"
      ],
      "execution_count": 2,
      "outputs": [
        {
          "output_type": "stream",
          "text": [
            "X           0     1      2   3      4   ...  8      9     10      11    12\n",
            "0    0.00632  18.0   2.31   0  0.538  ...   1  296.0  15.3  396.90  4.98\n",
            "1    0.02731   0.0   7.07   0  0.469  ...   2  242.0  17.8  396.90  9.14\n",
            "2    0.02729   0.0   7.07   0  0.469  ...   2  242.0  17.8  392.83  4.03\n",
            "3    0.03237   0.0   2.18   0  0.458  ...   3  222.0  18.7  394.63  2.94\n",
            "4    0.06905   0.0   2.18   0  0.458  ...   3  222.0  18.7  396.90  5.33\n",
            "..       ...   ...    ...  ..    ...  ...  ..    ...   ...     ...   ...\n",
            "501  0.06263   0.0  11.93   0  0.573  ...   1  273.0  21.0  391.99  9.67\n",
            "502  0.04527   0.0  11.93   0  0.573  ...   1  273.0  21.0  396.90  9.08\n",
            "503  0.06076   0.0  11.93   0  0.573  ...   1  273.0  21.0  396.90  5.64\n",
            "504  0.10959   0.0  11.93   0  0.573  ...   1  273.0  21.0  393.45  6.48\n",
            "505  0.04741   0.0  11.93   0  0.573  ...   1  273.0  21.0  396.90  7.88\n",
            "\n",
            "[506 rows x 13 columns] y 0      24.0\n",
            "1      21.6\n",
            "2      34.7\n",
            "3      33.4\n",
            "4      36.2\n",
            "       ... \n",
            "501    22.4\n",
            "502    20.6\n",
            "503    23.9\n",
            "504    22.0\n",
            "505    11.9\n",
            "Name: 13, Length: 506, dtype: float64\n"
          ],
          "name": "stdout"
        }
      ]
    },
    {
      "cell_type": "code",
      "metadata": {
        "colab": {
          "base_uri": "https://localhost:8080/"
        },
        "id": "b3xSWwylQuOn",
        "outputId": "34326b1d-bb31-453f-eb28-5994aec96101"
      },
      "source": [
        "#removing outliers\n",
        "iso = IsolationForest()\n",
        "yhat = iso.fit_predict(X)\n",
        "print(yhat)\n",
        "#yhat = -1 are outliers\n",
        "#remove all rows that are not outliers\n",
        "mask = yhat != -1\n",
        "print(mask)\n",
        "#df = df[mask]\n",
        "X, y = X.loc[mask,:], y.loc[mask]\n",
        "print('X_masked', X, X.shape, 'y_masked',y, y.shape)\n"
      ],
      "execution_count": 3,
      "outputs": [
        {
          "output_type": "stream",
          "text": [
            "[ 1  1  1  1  1  1  1  1  1  1  1  1  1  1  1  1  1  1  1  1  1  1  1  1\n",
            "  1  1  1  1  1  1  1  1  1  1  1  1  1  1  1  1  1  1  1  1  1  1  1  1\n",
            "  1  1  1  1  1  1 -1 -1  1  1  1  1  1  1  1  1  1  1  1  1  1  1  1  1\n",
            "  1  1  1  1  1  1  1  1  1  1  1  1  1  1  1  1  1  1  1  1  1  1  1  1\n",
            "  1  1  1  1  1  1  1  1  1  1  1  1  1  1  1  1  1  1  1  1  1  1  1  1\n",
            "  1  1  1  1  1  1 -1  1  1  1  1  1  1  1  1  1  1  1  1  1  1 -1 -1 -1\n",
            " -1 -1 -1 -1 -1  1  1  1 -1 -1 -1 -1 -1  1  1  1 -1  1 -1 -1  1  1  1  1\n",
            "  1  1  1  1  1  1  1  1  1  1  1  1  1  1  1  1  1  1  1  1  1  1  1  1\n",
            "  1  1  1  1  1 -1  1  1 -1  1 -1  1 -1  1  1  1  1 -1  1  1  1  1 -1  1\n",
            "  1  1  1  1  1  1  1  1  1  1  1  1  1  1  1  1  1  1  1  1  1  1  1  1\n",
            "  1  1  1  1  1  1  1  1  1  1  1  1  1 -1  1 -1  1 -1  1  1  1  1  1  1\n",
            "  1  1  1  1  1  1  1  1  1  1  1  1  1  1  1  1  1  1  1 -1 -1  1 -1  1\n",
            "  1  1  1  1  1  1  1  1  1  1  1  1  1  1  1  1  1  1  1  1  1  1  1  1\n",
            "  1  1  1  1  1  1  1  1  1  1  1  1  1  1  1  1  1  1  1  1  1  1  1  1\n",
            "  1  1  1  1  1  1  1  1  1  1  1  1  1  1  1 -1 -1 -1 -1 -1 -1 -1 -1  1\n",
            "  1  1  1 -1 -1 -1  1 -1  1 -1 -1  1 -1  1 -1  1  1  1  1  1 -1  1  1  1\n",
            " -1  1  1  1  1  1  1  1  1  1  1  1  1  1 -1  1  1  1  1  1 -1 -1  1  1\n",
            "  1  1 -1  1 -1 -1 -1 -1  1 -1 -1  1  1  1  1  1 -1  1 -1 -1  1  1  1  1\n",
            "  1  1  1  1  1 -1 -1  1  1  1  1  1  1  1  1  1  1  1  1  1  1  1  1  1\n",
            "  1  1  1  1  1  1  1  1  1  1  1  1  1  1  1  1  1  1  1  1  1  1  1  1\n",
            "  1  1  1  1  1  1  1  1  1 -1 -1  1 -1  1  1  1  1  1  1  1  1  1  1  1\n",
            "  1  1]\n",
            "[ True  True  True  True  True  True  True  True  True  True  True  True\n",
            "  True  True  True  True  True  True  True  True  True  True  True  True\n",
            "  True  True  True  True  True  True  True  True  True  True  True  True\n",
            "  True  True  True  True  True  True  True  True  True  True  True  True\n",
            "  True  True  True  True  True  True False False  True  True  True  True\n",
            "  True  True  True  True  True  True  True  True  True  True  True  True\n",
            "  True  True  True  True  True  True  True  True  True  True  True  True\n",
            "  True  True  True  True  True  True  True  True  True  True  True  True\n",
            "  True  True  True  True  True  True  True  True  True  True  True  True\n",
            "  True  True  True  True  True  True  True  True  True  True  True  True\n",
            "  True  True  True  True  True  True False  True  True  True  True  True\n",
            "  True  True  True  True  True  True  True  True  True False False False\n",
            " False False False False False  True  True  True False False False False\n",
            " False  True  True  True False  True False False  True  True  True  True\n",
            "  True  True  True  True  True  True  True  True  True  True  True  True\n",
            "  True  True  True  True  True  True  True  True  True  True  True  True\n",
            "  True  True  True  True  True False  True  True False  True False  True\n",
            " False  True  True  True  True False  True  True  True  True False  True\n",
            "  True  True  True  True  True  True  True  True  True  True  True  True\n",
            "  True  True  True  True  True  True  True  True  True  True  True  True\n",
            "  True  True  True  True  True  True  True  True  True  True  True  True\n",
            "  True False  True False  True False  True  True  True  True  True  True\n",
            "  True  True  True  True  True  True  True  True  True  True  True  True\n",
            "  True  True  True  True  True  True  True False False  True False  True\n",
            "  True  True  True  True  True  True  True  True  True  True  True  True\n",
            "  True  True  True  True  True  True  True  True  True  True  True  True\n",
            "  True  True  True  True  True  True  True  True  True  True  True  True\n",
            "  True  True  True  True  True  True  True  True  True  True  True  True\n",
            "  True  True  True  True  True  True  True  True  True  True  True  True\n",
            "  True  True  True False False False False False False False False  True\n",
            "  True  True  True False False False  True False  True False False  True\n",
            " False  True False  True  True  True  True  True False  True  True  True\n",
            " False  True  True  True  True  True  True  True  True  True  True  True\n",
            "  True  True False  True  True  True  True  True False False  True  True\n",
            "  True  True False  True False False False False  True False False  True\n",
            "  True  True  True  True False  True False False  True  True  True  True\n",
            "  True  True  True  True  True False False  True  True  True  True  True\n",
            "  True  True  True  True  True  True  True  True  True  True  True  True\n",
            "  True  True  True  True  True  True  True  True  True  True  True  True\n",
            "  True  True  True  True  True  True  True  True  True  True  True  True\n",
            "  True  True  True  True  True  True  True  True  True False False  True\n",
            " False  True  True  True  True  True  True  True  True  True  True  True\n",
            "  True  True]\n",
            "X_masked           0     1      2   3      4   ...  8      9     10      11    12\n",
            "0    0.00632  18.0   2.31   0  0.538  ...   1  296.0  15.3  396.90  4.98\n",
            "1    0.02731   0.0   7.07   0  0.469  ...   2  242.0  17.8  396.90  9.14\n",
            "2    0.02729   0.0   7.07   0  0.469  ...   2  242.0  17.8  392.83  4.03\n",
            "3    0.03237   0.0   2.18   0  0.458  ...   3  222.0  18.7  394.63  2.94\n",
            "4    0.06905   0.0   2.18   0  0.458  ...   3  222.0  18.7  396.90  5.33\n",
            "..       ...   ...    ...  ..    ...  ...  ..    ...   ...     ...   ...\n",
            "501  0.06263   0.0  11.93   0  0.573  ...   1  273.0  21.0  391.99  9.67\n",
            "502  0.04527   0.0  11.93   0  0.573  ...   1  273.0  21.0  396.90  9.08\n",
            "503  0.06076   0.0  11.93   0  0.573  ...   1  273.0  21.0  396.90  5.64\n",
            "504  0.10959   0.0  11.93   0  0.573  ...   1  273.0  21.0  393.45  6.48\n",
            "505  0.04741   0.0  11.93   0  0.573  ...   1  273.0  21.0  396.90  7.88\n",
            "\n",
            "[439 rows x 13 columns] (439, 13) y_masked 0      24.0\n",
            "1      21.6\n",
            "2      34.7\n",
            "3      33.4\n",
            "4      36.2\n",
            "       ... \n",
            "501    22.4\n",
            "502    20.6\n",
            "503    23.9\n",
            "504    22.0\n",
            "505    11.9\n",
            "Name: 13, Length: 439, dtype: float64 (439,)\n"
          ],
          "name": "stdout"
        }
      ]
    },
    {
      "cell_type": "code",
      "metadata": {
        "colab": {
          "base_uri": "https://localhost:8080/"
        },
        "id": "AirtlzU6QzGX",
        "outputId": "64cb8d85-8b60-44c3-f45e-e1ba3572026d"
      },
      "source": [
        "#train_test_split\n",
        "X_train, X_test = train_test_split(X, test_size=0.2)\n",
        "y_train, y_test = train_test_split(y, test_size=0.2)\n",
        "print(\"X_train\", X_train, \"X_test\", X_test)\n",
        "print(\"y_train\", y_train, \"y_test\", y_test)\n",
        "print('X_train_masked', X_train, X_train.shape, 'y_train_masked',y_train, y_train.shape)\n",
        "print('X_test_masked', X_test, X_test.shape, 'y_test_masked',y_test, y_test.shape)"
      ],
      "execution_count": 4,
      "outputs": [
        {
          "output_type": "stream",
          "text": [
            "X_train            0     1      2   3      4   ...  8      9     10      11     12\n",
            "259   0.65665  20.0   3.97   0  0.647  ...   5  264.0  13.0  391.93   6.90\n",
            "217   0.07013   0.0  13.89   0  0.550  ...   5  276.0  16.4  392.78   9.69\n",
            "449   7.52601   0.0  18.10   0  0.713  ...  24  666.0  20.2  304.21  19.31\n",
            "342   0.02498   0.0   1.89   0  0.518  ...   1  422.0  15.9  389.96   8.65\n",
            "245   0.19133  22.0   5.86   0  0.431  ...   7  330.0  19.1  389.13  18.46\n",
            "..        ...   ...    ...  ..    ...  ...  ..    ...   ...     ...    ...\n",
            "139   0.54452   0.0  21.89   0  0.624  ...   4  437.0  21.2  396.90  18.46\n",
            "459   6.80117   0.0  18.10   0  0.713  ...  24  666.0  20.2  396.90  14.70\n",
            "208   0.13587   0.0  10.59   1  0.489  ...   4  277.0  18.6  381.32  14.66\n",
            "478  10.23300   0.0  18.10   0  0.614  ...  24  666.0  20.2  379.70  18.03\n",
            "6     0.08829  12.5   7.87   0  0.524  ...   5  311.0  15.2  395.60  12.43\n",
            "\n",
            "[351 rows x 13 columns] X_test            0     1      2   3      4   ...  8      9     10      11     12\n",
            "360   4.54192   0.0  18.10   0  0.770  ...  24  666.0  20.2  374.56   7.79\n",
            "127   0.25915   0.0  21.89   0  0.624  ...   4  437.0  21.2  392.11  17.19\n",
            "231   0.46296   0.0   6.20   0  0.504  ...   8  307.0  17.4  376.14   5.25\n",
            "128   0.32543   0.0  21.89   0  0.624  ...   4  437.0  21.2  396.90  15.39\n",
            "465   3.16360   0.0  18.10   0  0.655  ...  24  666.0  20.2  334.40  14.13\n",
            "..        ...   ...    ...  ..    ...  ...  ..    ...   ...     ...    ...\n",
            "264   0.55007  20.0   3.97   0  0.647  ...   5  264.0  13.0  387.89   8.10\n",
            "456   4.66883   0.0  18.10   0  0.713  ...  24  666.0  20.2   10.48  19.01\n",
            "52    0.05360  21.0   5.64   0  0.439  ...   4  243.0  16.8  396.90   5.28\n",
            "379  17.86670   0.0  18.10   0  0.671  ...  24  666.0  20.2  393.74  21.78\n",
            "183   0.10008   0.0   2.46   0  0.488  ...   3  193.0  17.8  396.90   5.68\n",
            "\n",
            "[88 rows x 13 columns]\n",
            "y_train 96     21.4\n",
            "332    19.4\n",
            "279    35.1\n",
            "49     19.4\n",
            "298    22.5\n",
            "       ... \n",
            "316    17.8\n",
            "205    22.6\n",
            "504    22.0\n",
            "98     43.8\n",
            "385     7.2\n",
            "Name: 13, Length: 351, dtype: float64 y_test 56     24.7\n",
            "74     24.1\n",
            "273    35.2\n",
            "271    25.2\n",
            "57     31.6\n",
            "       ... \n",
            "243    23.7\n",
            "15     19.9\n",
            "280    45.4\n",
            "190    37.0\n",
            "97     38.7\n",
            "Name: 13, Length: 88, dtype: float64\n",
            "X_train_masked            0     1      2   3      4   ...  8      9     10      11     12\n",
            "259   0.65665  20.0   3.97   0  0.647  ...   5  264.0  13.0  391.93   6.90\n",
            "217   0.07013   0.0  13.89   0  0.550  ...   5  276.0  16.4  392.78   9.69\n",
            "449   7.52601   0.0  18.10   0  0.713  ...  24  666.0  20.2  304.21  19.31\n",
            "342   0.02498   0.0   1.89   0  0.518  ...   1  422.0  15.9  389.96   8.65\n",
            "245   0.19133  22.0   5.86   0  0.431  ...   7  330.0  19.1  389.13  18.46\n",
            "..        ...   ...    ...  ..    ...  ...  ..    ...   ...     ...    ...\n",
            "139   0.54452   0.0  21.89   0  0.624  ...   4  437.0  21.2  396.90  18.46\n",
            "459   6.80117   0.0  18.10   0  0.713  ...  24  666.0  20.2  396.90  14.70\n",
            "208   0.13587   0.0  10.59   1  0.489  ...   4  277.0  18.6  381.32  14.66\n",
            "478  10.23300   0.0  18.10   0  0.614  ...  24  666.0  20.2  379.70  18.03\n",
            "6     0.08829  12.5   7.87   0  0.524  ...   5  311.0  15.2  395.60  12.43\n",
            "\n",
            "[351 rows x 13 columns] (351, 13) y_train_masked 96     21.4\n",
            "332    19.4\n",
            "279    35.1\n",
            "49     19.4\n",
            "298    22.5\n",
            "       ... \n",
            "316    17.8\n",
            "205    22.6\n",
            "504    22.0\n",
            "98     43.8\n",
            "385     7.2\n",
            "Name: 13, Length: 351, dtype: float64 (351,)\n",
            "X_test_masked            0     1      2   3      4   ...  8      9     10      11     12\n",
            "360   4.54192   0.0  18.10   0  0.770  ...  24  666.0  20.2  374.56   7.79\n",
            "127   0.25915   0.0  21.89   0  0.624  ...   4  437.0  21.2  392.11  17.19\n",
            "231   0.46296   0.0   6.20   0  0.504  ...   8  307.0  17.4  376.14   5.25\n",
            "128   0.32543   0.0  21.89   0  0.624  ...   4  437.0  21.2  396.90  15.39\n",
            "465   3.16360   0.0  18.10   0  0.655  ...  24  666.0  20.2  334.40  14.13\n",
            "..        ...   ...    ...  ..    ...  ...  ..    ...   ...     ...    ...\n",
            "264   0.55007  20.0   3.97   0  0.647  ...   5  264.0  13.0  387.89   8.10\n",
            "456   4.66883   0.0  18.10   0  0.713  ...  24  666.0  20.2   10.48  19.01\n",
            "52    0.05360  21.0   5.64   0  0.439  ...   4  243.0  16.8  396.90   5.28\n",
            "379  17.86670   0.0  18.10   0  0.671  ...  24  666.0  20.2  393.74  21.78\n",
            "183   0.10008   0.0   2.46   0  0.488  ...   3  193.0  17.8  396.90   5.68\n",
            "\n",
            "[88 rows x 13 columns] (88, 13) y_test_masked 56     24.7\n",
            "74     24.1\n",
            "273    35.2\n",
            "271    25.2\n",
            "57     31.6\n",
            "       ... \n",
            "243    23.7\n",
            "15     19.9\n",
            "280    45.4\n",
            "190    37.0\n",
            "97     38.7\n",
            "Name: 13, Length: 88, dtype: float64 (88,)\n"
          ],
          "name": "stdout"
        }
      ]
    },
    {
      "cell_type": "code",
      "metadata": {
        "colab": {
          "base_uri": "https://localhost:8080/"
        },
        "id": "CDSCfMYRQ9Q-",
        "outputId": "ae1dc250-580f-4330-d6b7-c5cc3e60a92f"
      },
      "source": [
        "lr = LinearRegression().fit(X_train,y_train)\n",
        "print(lr)\n",
        "print(lr.score(X_train, y_train), lr.coef_, lr.intercept_)\n",
        "y_pred = lr.predict(X_test)\n",
        "print(y_pred, y_pred.shape)\n",
        "\n",
        "from sklearn.metrics import mean_absolute_error\n",
        "print('mae', mean_absolute_error(y_test,y_pred))"
      ],
      "execution_count": 5,
      "outputs": [
        {
          "output_type": "stream",
          "text": [
            "LinearRegression(copy_X=True, fit_intercept=True, n_jobs=None, normalize=False)\n",
            "0.027178793633969578 [-1.34300147e-01  8.99059116e-03 -9.52518976e-02 -2.06514378e+00\n",
            " -8.96122076e+00 -4.90781527e-01  1.71027542e-02  6.46599758e-02\n",
            "  2.04735411e-01 -7.66573525e-03  2.65208106e-02  8.33749330e-04\n",
            "  1.43915926e-01] 29.20511506207918\n",
            "[20.27616888 21.28901473 22.76598041 20.71231402 22.03913429 23.52300597\n",
            " 24.61734709 22.48982955 22.5883072  22.16427095 21.32553618 23.45450897\n",
            " 22.62544748 22.631306   24.23814854 23.96377274 20.88634653 21.51832104\n",
            " 22.66556973 24.23074547 22.726566   23.69181466 24.30171481 23.41836974\n",
            " 21.41932825 22.09902839 24.1025892  18.79292753 24.52119608 19.01516242\n",
            " 22.33470512 21.01015719 22.48917186 23.07974541 23.89695979 23.76283976\n",
            " 20.9801178  21.309468   20.57550018 22.77303643 23.76830392 22.58616741\n",
            " 21.82950761 21.8586524  22.93780653 23.84123453 23.03924017 23.69233618\n",
            " 23.30000682 22.53614089 23.469422   24.45736332 23.59315377 21.59840876\n",
            " 23.11908094 21.92170165 23.34247333 24.01364844 23.39166419 22.63597943\n",
            " 21.77748825 23.43624139 22.66348191 22.48524885 25.16986347 21.93280348\n",
            " 24.8541349  23.15954907 23.40443787 24.56515432 20.20608349 23.46401197\n",
            " 23.98031871 24.87369305 26.85627473 22.3707789  23.00906711 25.84876224\n",
            " 20.93631368 20.79984505 21.62817144 22.58102391 21.37822091 22.12364887\n",
            " 22.29053397 23.01405909 21.62110319 23.93753732] (88,)\n",
            "mae 7.775201226619767\n"
          ],
          "name": "stdout"
        }
      ]
    }
  ]
}