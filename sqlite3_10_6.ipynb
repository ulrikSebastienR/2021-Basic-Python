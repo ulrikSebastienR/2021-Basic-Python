{
  "nbformat": 4,
  "nbformat_minor": 0,
  "metadata": {
    "colab": {
      "name": "sqlite3-10.6.ipynb",
      "provenance": [],
      "collapsed_sections": [],
      "authorship_tag": "ABX9TyNVZnr2GggDO8Q9cN3uss54",
      "include_colab_link": true
    },
    "kernelspec": {
      "name": "python3",
      "display_name": "Python 3"
    },
    "language_info": {
      "name": "python"
    }
  },
  "cells": [
    {
      "cell_type": "markdown",
      "metadata": {
        "id": "view-in-github",
        "colab_type": "text"
      },
      "source": [
        "<a href=\"https://colab.research.google.com/github/ulrikSebastienR/2021-Coding-Basic/blob/main/sqlite3_10_6.ipynb\" target=\"_parent\"><img src=\"https://colab.research.google.com/assets/colab-badge.svg\" alt=\"Open In Colab\"/></a>"
      ]
    },
    {
      "cell_type": "code",
      "metadata": {
        "colab": {
          "base_uri": "https://localhost:8080/"
        },
        "id": "qmuqUk3CNmWm",
        "outputId": "bee8b051-84ce-44c3-bb26-e1ed0b16291b"
      },
      "source": [
        "#https://www.sqlitetutorial.net/sqlite-python/sqlite-python-select/\n",
        "import sqlite3\n",
        "conn = sqlite3.connect('tasks.db')\n",
        "print(conn)\n",
        "cur = conn.cursor()\n",
        "print(cur)"
      ],
      "execution_count": null,
      "outputs": [
        {
          "output_type": "stream",
          "text": [
            "<sqlite3.Connection object at 0x7f2f9f5e2e30>\n",
            "<sqlite3.Cursor object at 0x7f2f9b8d1f10>\n"
          ],
          "name": "stdout"
        }
      ]
    },
    {
      "cell_type": "code",
      "metadata": {
        "colab": {
          "base_uri": "https://localhost:8080/"
        },
        "id": "rhZ_v6pFOEBl",
        "outputId": "8c4a04a7-9d0e-422a-c42b-80fd2d9d3a73"
      },
      "source": [
        "cur.execute('''CREATE TABLE IF NOT EXISTS projects(\n",
        "  id integer PRIMARY KEY,\n",
        "  name text NOT NULL,\n",
        "  begin_date text,\n",
        "  end_date text\n",
        ");'''\n",
        ")"
      ],
      "execution_count": null,
      "outputs": [
        {
          "output_type": "execute_result",
          "data": {
            "text/plain": [
              "<sqlite3.Cursor at 0x7f2f9b8d1f10>"
            ]
          },
          "metadata": {
            "tags": []
          },
          "execution_count": 40
        }
      ]
    },
    {
      "cell_type": "code",
      "metadata": {
        "colab": {
          "base_uri": "https://localhost:8080/"
        },
        "id": "XZp80E3yPdjc",
        "outputId": "7e19b807-5116-4e74-b1ce-75b9f98e7fbe"
      },
      "source": [
        "cur.execute(''' CREATE TABLE IF NOT EXISTS tasks(\n",
        "id integer PRIMARY KEY,\n",
        "name text NOT NULL,\n",
        "priority integer,\n",
        "project_id integer NOT NULL,\n",
        "status_id integer NOT NULL,\n",
        "begin_date text NOT NULL,\n",
        "end_date text NULL,\n",
        "FOREIGN KEY(project_id) REFERENCES projects (id)\n",
        ");\n",
        "''')"
      ],
      "execution_count": null,
      "outputs": [
        {
          "output_type": "execute_result",
          "data": {
            "text/plain": [
              "<sqlite3.Cursor at 0x7f2f9b8d1f10>"
            ]
          },
          "metadata": {
            "tags": []
          },
          "execution_count": 41
        }
      ]
    },
    {
      "cell_type": "code",
      "metadata": {
        "id": "Zd-wTxz2QMGk",
        "colab": {
          "base_uri": "https://localhost:8080/"
        },
        "outputId": "9718dce2-233b-49c1-f693-05cc6035ba7d"
      },
      "source": [
        "#Now doing https://www.tutorialspoint.com/sqlite/sqlite_python.htm\n",
        "import sqlite3\n",
        "conn = sqlite3.connect('tasks1.db')\n",
        "cur = conn.cursor()\n",
        "print(conn, cur)"
      ],
      "execution_count": null,
      "outputs": [
        {
          "output_type": "stream",
          "text": [
            "<sqlite3.Connection object at 0x7f2f9f5e2b90> <sqlite3.Cursor object at 0x7f2f9b8d1500>\n"
          ],
          "name": "stdout"
        }
      ]
    },
    {
      "cell_type": "code",
      "metadata": {
        "colab": {
          "base_uri": "https://localhost:8080/"
        },
        "id": "OVDq3j3WFpDL",
        "outputId": "38962206-b7f4-4a16-c1a7-c045badb0735"
      },
      "source": [
        "cur.execute('''CREATE TABLE IF NOT EXISTS company(\n",
        "id integer PRIMARY KEY,\n",
        "name TEXT NOT NULL,\n",
        "age integer NOT NULL,\n",
        "address CHAR(50),\n",
        "salary REAL\n",
        ");''')"
      ],
      "execution_count": null,
      "outputs": [
        {
          "output_type": "execute_result",
          "data": {
            "text/plain": [
              "<sqlite3.Cursor at 0x7f2f9b8d1500>"
            ]
          },
          "metadata": {
            "tags": []
          },
          "execution_count": 43
        }
      ]
    },
    {
      "cell_type": "code",
      "metadata": {
        "id": "yYke1vweGun9",
        "colab": {
          "base_uri": "https://localhost:8080/"
        },
        "outputId": "587d69f4-5c4d-4f87-8e83-e0e78cc817b8"
      },
      "source": [
        "cur.execute('''\n",
        "INSERT INTO company(id, name, age, address, salary) VALUES(1, 'Degree', 30, 'Charlie Street', 32000);\n",
        "''')"
      ],
      "execution_count": null,
      "outputs": [
        {
          "output_type": "execute_result",
          "data": {
            "text/plain": [
              "<sqlite3.Cursor at 0x7f2f9b8d1500>"
            ]
          },
          "metadata": {
            "tags": []
          },
          "execution_count": 44
        }
      ]
    },
    {
      "cell_type": "code",
      "metadata": {
        "id": "Pw6GlSXRYYm-",
        "colab": {
          "base_uri": "https://localhost:8080/"
        },
        "outputId": "9097be69-1652-4fef-9730-7cb127ecbd3f"
      },
      "source": [
        "cur.execute('''\n",
        "INSERT INTO company(id, name, age, address, salary) VALUES(3, 'Stevenson', 35, 'royal street', 340000)\n",
        "''')"
      ],
      "execution_count": null,
      "outputs": [
        {
          "output_type": "execute_result",
          "data": {
            "text/plain": [
              "<sqlite3.Cursor at 0x7f2f9b8d1500>"
            ]
          },
          "metadata": {
            "tags": []
          },
          "execution_count": 45
        }
      ]
    },
    {
      "cell_type": "code",
      "metadata": {
        "id": "pKaUsysoaN0x",
        "colab": {
          "base_uri": "https://localhost:8080/"
        },
        "outputId": "9f14a94c-76bb-4126-9b13-465e86af48b2"
      },
      "source": [
        "cur.execute('''\n",
        "INSERT INTO company(id, name, age, address, salary) VALUES(2, 'July', 23, 'her street', 12000)\n",
        "''')"
      ],
      "execution_count": null,
      "outputs": [
        {
          "output_type": "execute_result",
          "data": {
            "text/plain": [
              "<sqlite3.Cursor at 0x7f2f9b8d1500>"
            ]
          },
          "metadata": {
            "tags": []
          },
          "execution_count": 46
        }
      ]
    },
    {
      "cell_type": "code",
      "metadata": {
        "id": "Ddmt_Ca2auih",
        "colab": {
          "base_uri": "https://localhost:8080/"
        },
        "outputId": "bd50ba29-181e-4fcb-bec4-95cf03a70ae0"
      },
      "source": [
        "cur.execute('''\n",
        "INSERT INTO company(id, name, age, address, salary) VALUES(4, 'Mo', 50, 'Montepellier', 35000)\n",
        "''')"
      ],
      "execution_count": null,
      "outputs": [
        {
          "output_type": "execute_result",
          "data": {
            "text/plain": [
              "<sqlite3.Cursor at 0x7f2f9b8d1500>"
            ]
          },
          "metadata": {
            "tags": []
          },
          "execution_count": 47
        }
      ]
    },
    {
      "cell_type": "code",
      "metadata": {
        "id": "L6x_ruudpvbI",
        "colab": {
          "base_uri": "https://localhost:8080/"
        },
        "outputId": "b75ba6ee-8680-4b82-babb-489b9240faaf"
      },
      "source": [
        "conn.total_changes"
      ],
      "execution_count": null,
      "outputs": [
        {
          "output_type": "execute_result",
          "data": {
            "text/plain": [
              "4"
            ]
          },
          "metadata": {
            "tags": []
          },
          "execution_count": 48
        }
      ]
    },
    {
      "cell_type": "code",
      "metadata": {
        "id": "OCh9OkuBp_P8",
        "colab": {
          "base_uri": "https://localhost:8080/"
        },
        "outputId": "9579be8b-f8ea-41b7-8e58-6264a2d123b8"
      },
      "source": [
        "cur.execute('''\n",
        "SELECT * FROM company\n",
        "''')"
      ],
      "execution_count": null,
      "outputs": [
        {
          "output_type": "execute_result",
          "data": {
            "text/plain": [
              "<sqlite3.Cursor at 0x7f2f9b8d1500>"
            ]
          },
          "metadata": {
            "tags": []
          },
          "execution_count": 49
        }
      ]
    },
    {
      "cell_type": "code",
      "metadata": {
        "id": "KSvjl5-oqOSa",
        "colab": {
          "base_uri": "https://localhost:8080/"
        },
        "outputId": "5686a7db-db1f-426d-f44d-2bec423c66e2"
      },
      "source": [
        "cur.rowcount"
      ],
      "execution_count": null,
      "outputs": [
        {
          "output_type": "execute_result",
          "data": {
            "text/plain": [
              "-1"
            ]
          },
          "metadata": {
            "tags": []
          },
          "execution_count": 50
        }
      ]
    },
    {
      "cell_type": "code",
      "metadata": {
        "id": "Phd2rQNyqZyD",
        "colab": {
          "base_uri": "https://localhost:8080/"
        },
        "outputId": "450c1c0f-84ee-40d6-a624-6fdd00043132"
      },
      "source": [
        "result1 = cur.fetchall()\n",
        "print(result1,type(result1))"
      ],
      "execution_count": null,
      "outputs": [
        {
          "output_type": "stream",
          "text": [
            "[(1, 'Degree', 30, 'Charlie Street', 32000.0), (2, 'July', 23, 'her street', 12000.0), (3, 'Stevenson', 35, 'royal street', 340000.0), (4, 'Mo', 50, 'Montepellier', 35000.0)] <class 'list'>\n"
          ],
          "name": "stdout"
        }
      ]
    },
    {
      "cell_type": "code",
      "metadata": {
        "id": "pg5p7TdFuT-n"
      },
      "source": [
        "conn = sqlite3.connect('tasks1.db')\n",
        "cur = conn.cursor()"
      ],
      "execution_count": null,
      "outputs": []
    },
    {
      "cell_type": "code",
      "metadata": {
        "id": "Rhe319CJqeIF",
        "colab": {
          "base_uri": "https://localhost:8080/"
        },
        "outputId": "73d287b4-f51a-4f6c-b338-032f9f63c3c1"
      },
      "source": [
        "cur.execute('''\n",
        "SELECT * FROM sqlite_master where type = 'table'\n",
        "''')\n",
        "print(cur.fetchall())"
      ],
      "execution_count": null,
      "outputs": [
        {
          "output_type": "stream",
          "text": [
            "[('table', 'company', 'company', 2, 'CREATE TABLE company(\\nid integer PRIMARY KEY,\\nname TEXT NOT NULL,\\nage integer NOT NULL,\\naddress CHAR(50),\\nsalary REAL\\n)')]\n"
          ],
          "name": "stdout"
        }
      ]
    },
    {
      "cell_type": "code",
      "metadata": {
        "colab": {
          "base_uri": "https://localhost:8080/"
        },
        "id": "9QFPF2Fou3Gf",
        "outputId": "ba6c7212-b0f3-4d37-ffa7-83da7d06c120"
      },
      "source": [
        "cur.execute('''\n",
        "SELECT * FROM sqlite_master WHERE type = 'table'\n",
        "''')\n",
        "print(cur.fetchall())"
      ],
      "execution_count": null,
      "outputs": [
        {
          "output_type": "stream",
          "text": [
            "[('table', 'company', 'company', 2, 'CREATE TABLE company(\\nid integer PRIMARY KEY,\\nname TEXT NOT NULL,\\nage integer NOT NULL,\\naddress CHAR(50),\\nsalary REAL\\n)')]\n"
          ],
          "name": "stdout"
        }
      ]
    },
    {
      "cell_type": "code",
      "metadata": {
        "colab": {
          "base_uri": "https://localhost:8080/"
        },
        "id": "UF_FVi0bvHxL",
        "outputId": "705570c6-aca8-46f9-cb0c-830ebc2fe96f"
      },
      "source": [
        "cur.execute('''\n",
        "SELECT name FROM sqlite_master WHERE type = 'table'\n",
        "''')\n",
        "print(cur.fetchall())"
      ],
      "execution_count": null,
      "outputs": [
        {
          "output_type": "stream",
          "text": [
            "[('company',)]\n"
          ],
          "name": "stdout"
        }
      ]
    },
    {
      "cell_type": "code",
      "metadata": {
        "colab": {
          "base_uri": "https://localhost:8080/"
        },
        "id": "k_E-rEqtsc8D",
        "outputId": "fbe0be7d-47d7-4c75-aed6-98d3a90835d3"
      },
      "source": [
        "cur.execute('''\n",
        "SELECT * from company\n",
        "''')\n",
        "print(cur.rowcount)\n",
        "result2 = cur.fetchall()\n",
        "print(result2)"
      ],
      "execution_count": null,
      "outputs": [
        {
          "output_type": "stream",
          "text": [
            "-1\n",
            "[]\n"
          ],
          "name": "stdout"
        }
      ]
    }
  ]
}