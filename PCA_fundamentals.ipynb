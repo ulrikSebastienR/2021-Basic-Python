{
  "nbformat": 4,
  "nbformat_minor": 0,
  "metadata": {
    "colab": {
      "name": "PCA fundamentals.ipynb",
      "provenance": [],
      "collapsed_sections": [],
      "authorship_tag": "ABX9TyN1lN4we1jepSl5t792Mfg+",
      "include_colab_link": true
    },
    "kernelspec": {
      "name": "python3",
      "display_name": "Python 3"
    },
    "language_info": {
      "name": "python"
    }
  },
  "cells": [
    {
      "cell_type": "markdown",
      "metadata": {
        "id": "view-in-github",
        "colab_type": "text"
      },
      "source": [
        "<a href=\"https://colab.research.google.com/github/ulrikSebastienR/2021-Coding-Basic/blob/main/PCA_fundamentals.ipynb\" target=\"_parent\"><img src=\"https://colab.research.google.com/assets/colab-badge.svg\" alt=\"Open In Colab\"/></a>"
      ]
    },
    {
      "cell_type": "code",
      "metadata": {
        "colab": {
          "base_uri": "https://localhost:8080/",
          "height": 1000
        },
        "id": "-0LtXdNDmAle",
        "outputId": "ef74b5b9-7bce-488d-b934-d066f8d40dd0"
      },
      "source": [
        "#https://github.com/minsuk-heo/python_tutorial/blob/master/data_science/pca/PCA.ipynb\n",
        "#without sklearn, direct implementation\n",
        "import pandas as pd\n",
        "df = pd.DataFrame(columns=[\"calory\",\"breakfast\",\"lunch\",\"dinner\",\"exercise\",\"body_shape\"])\n",
        "\n",
        "df.loc[0] = [1200, 1, 0, 0, 2, 'Skinny']\n",
        "df.loc[1] = [2800, 1, 1, 1, 1, 'Normal']\n",
        "df.loc[2] = [3500, 2, 2, 1, 0, 'Fat']\n",
        "df.loc[3] = [1400, 0, 1, 0, 3, 'Skinny']\n",
        "df.loc[4] = [5000, 2, 2, 2, 0, 'Fat']\n",
        "df.loc[5] = [1300, 0, 0, 1, 2, 'Skinny']\n",
        "df.loc[6] = [3000, 1, 0, 1, 1, 'Normal']\n",
        "df.loc[7] = [4000, 2, 2, 2, 0, 'Fat']\n",
        "df.loc[8] = [2600, 0, 2, 0, 0, 'Normal']\n",
        "df.loc[9] = [3000, 1, 2, 1, 1, 'Fat']\n",
        "print(df.head(10))\n",
        "\n",
        "X = df[['calory', 'breakfast', 'lunch', 'dinner', 'exercise']]\n",
        "y = df[['body_shape']]\n",
        "print(X)\n",
        "print(y)\n",
        "\n",
        "from sklearn.preprocessing import StandardScaler\n",
        "\n",
        "#print(StandardScaler)\n",
        "x_std = StandardScaler().fit_transform(X)\n",
        "print(x_std)\n",
        "\n",
        "#Co-variance matrix of features\n",
        "import numpy as np\n",
        "features = x_std.T\n",
        "print(features)\n",
        "print(np.cov(features))\n",
        "\n",
        "eigenvalues, eigenvectors = np.linalg.eig(np.cov(features))\n",
        "print(eigenvalues)\n",
        "print(eigenvectors)\n",
        "\n",
        "#we take only first eigenvalues as it is most significant component.\n",
        "print(eigenvalues[0])\n",
        "print(eigenvalues[0]/sum(eigenvalues))\n",
        "\n",
        "#project data point onto selected eigenvector\n",
        "projected_X = np.dot(x_std, eigenvectors.T[0])\n",
        "print(projected_X)\n",
        "\n",
        "result = pd.DataFrame(projected_X, columns = [\"PC1\"])\n",
        "result[\"y-axis\"] = 0.0\n",
        "result[\"label\"] = y\n",
        "print(result)\n",
        "\n",
        "import matplotlib.pyplot as plt\n",
        "import seaborn as sns\n",
        "\n",
        "sns.lmplot('PC1', 'y-axis', data=result, fit_reg=False,  # x-axis, y-axis, data, no line\n",
        "           scatter_kws={\"s\": 50}, # marker size\n",
        "           hue=\"label\") # color\n",
        "\n",
        "# title\n",
        "plt.title('PCA result')\n",
        "\n",
        "\n"
      ],
      "execution_count": 1,
      "outputs": [
        {
          "output_type": "stream",
          "text": [
            "  calory breakfast lunch dinner exercise body_shape\n",
            "0   1200         1     0      0        2     Skinny\n",
            "1   2800         1     1      1        1     Normal\n",
            "2   3500         2     2      1        0        Fat\n",
            "3   1400         0     1      0        3     Skinny\n",
            "4   5000         2     2      2        0        Fat\n",
            "5   1300         0     0      1        2     Skinny\n",
            "6   3000         1     0      1        1     Normal\n",
            "7   4000         2     2      2        0        Fat\n",
            "8   2600         0     2      0        0     Normal\n",
            "9   3000         1     2      1        1        Fat\n",
            "  calory breakfast lunch dinner exercise\n",
            "0   1200         1     0      0        2\n",
            "1   2800         1     1      1        1\n",
            "2   3500         2     2      1        0\n",
            "3   1400         0     1      0        3\n",
            "4   5000         2     2      2        0\n",
            "5   1300         0     0      1        2\n",
            "6   3000         1     0      1        1\n",
            "7   4000         2     2      2        0\n",
            "8   2600         0     2      0        0\n",
            "9   3000         1     2      1        1\n",
            "  body_shape\n",
            "0     Skinny\n",
            "1     Normal\n",
            "2        Fat\n",
            "3     Skinny\n",
            "4        Fat\n",
            "5     Skinny\n",
            "6     Normal\n",
            "7        Fat\n",
            "8     Normal\n",
            "9        Fat\n",
            "[[-1.35205803  0.         -1.3764944  -1.28571429  1.        ]\n",
            " [ 0.01711466  0.         -0.22941573  0.14285714  0.        ]\n",
            " [ 0.61612771  1.29099445  0.91766294  0.14285714 -1.        ]\n",
            " [-1.18091145 -1.29099445 -0.22941573 -1.28571429  2.        ]\n",
            " [ 1.89972711  1.29099445  0.91766294  1.57142857 -1.        ]\n",
            " [-1.26648474 -1.29099445 -1.3764944   0.14285714  1.        ]\n",
            " [ 0.18826125  0.         -1.3764944   0.14285714  0.        ]\n",
            " [ 1.04399418  1.29099445  0.91766294  1.57142857 -1.        ]\n",
            " [-0.15403193 -1.29099445  0.91766294 -1.28571429 -1.        ]\n",
            " [ 0.18826125  0.          0.91766294  0.14285714  0.        ]]\n",
            "[[-1.35205803  0.01711466  0.61612771 -1.18091145  1.89972711 -1.26648474\n",
            "   0.18826125  1.04399418 -0.15403193  0.18826125]\n",
            " [ 0.          0.          1.29099445 -1.29099445  1.29099445 -1.29099445\n",
            "   0.          1.29099445 -1.29099445  0.        ]\n",
            " [-1.3764944  -0.22941573  0.91766294 -0.22941573  0.91766294 -1.3764944\n",
            "  -1.3764944   0.91766294  0.91766294  0.91766294]\n",
            " [-1.28571429  0.14285714  0.14285714 -1.28571429  1.57142857  0.14285714\n",
            "   0.14285714  1.57142857 -1.28571429  0.14285714]\n",
            " [ 1.          0.         -1.          2.         -1.          1.\n",
            "   0.         -1.         -1.          0.        ]]\n",
            "[[ 1.11111111  0.88379717  0.76782385  0.89376551 -0.93179808]\n",
            " [ 0.88379717  1.11111111  0.49362406  0.81967902 -0.71721914]\n",
            " [ 0.76782385  0.49362406  1.11111111  0.40056715 -0.76471911]\n",
            " [ 0.89376551  0.81967902  0.40056715  1.11111111 -0.63492063]\n",
            " [-0.93179808 -0.71721914 -0.76471911 -0.63492063  1.11111111]]\n",
            "[4.0657343  0.8387565  0.07629538 0.27758568 0.2971837 ]\n",
            "[[-0.508005   -0.0169937  -0.84711404  0.11637853  0.10244985]\n",
            " [-0.44660335 -0.36890361  0.12808055 -0.63112016 -0.49973822]\n",
            " [-0.38377913  0.70804084  0.20681005 -0.40305226  0.38232213]\n",
            " [-0.42845209 -0.53194699  0.3694462   0.22228235  0.58954327]\n",
            " [ 0.46002038 -0.2816592  -0.29450345 -0.61341895  0.49601841]]\n",
            "4.065734295237528\n",
            "0.7318321731427545\n",
            "[ 2.22600943  0.0181432  -1.76296611  2.73542407 -3.02711544  2.14702579\n",
            "  0.37142473 -2.59239883  0.39347815 -0.50902498]\n",
            "        PC1  y-axis   label\n",
            "0  2.226009     0.0  Skinny\n",
            "1  0.018143     0.0  Normal\n",
            "2 -1.762966     0.0     Fat\n",
            "3  2.735424     0.0  Skinny\n",
            "4 -3.027115     0.0     Fat\n",
            "5  2.147026     0.0  Skinny\n",
            "6  0.371425     0.0  Normal\n",
            "7 -2.592399     0.0     Fat\n",
            "8  0.393478     0.0  Normal\n",
            "9 -0.509025     0.0     Fat\n"
          ],
          "name": "stdout"
        },
        {
          "output_type": "stream",
          "text": [
            "/usr/local/lib/python3.7/dist-packages/seaborn/_decorators.py:43: FutureWarning: Pass the following variables as keyword args: x, y. From version 0.12, the only valid positional argument will be `data`, and passing other arguments without an explicit keyword will result in an error or misinterpretation.\n",
            "  FutureWarning\n"
          ],
          "name": "stderr"
        },
        {
          "output_type": "execute_result",
          "data": {
            "text/plain": [
              "Text(0.5, 1.0, 'PCA result')"
            ]
          },
          "metadata": {
            "tags": []
          },
          "execution_count": 1
        },
        {
          "output_type": "display_data",
          "data": {
            "image/png": "[encoded data removed]",
            "text/plain": [
              "<Figure size 432.125x360 with 1 Axes>"
            ]
          },
          "metadata": {
            "tags": [],
            "needs_background": "light"
          }
        }
      ]
    },
    {
      "cell_type": "code",
      "metadata": {
        "colab": {
          "base_uri": "https://localhost:8080/"
        },
        "id": "eguTM1aom1ou",
        "outputId": "e7ec2387-0c42-41f6-e271-e6c981cd59ca"
      },
      "source": [
        "# sklearn implementation\n",
        "from sklearn import decomposition\n",
        "pca = decomposition.PCA(n_components=1)\n",
        "print(pca)\n",
        "pca_x = pca.fit_transform(x_std)\n",
        "print(pca_x)\n",
        "print(type(pca_x))"
      ],
      "execution_count": 12,
      "outputs": [
        {
          "output_type": "stream",
          "text": [
            "PCA(copy=True, iterated_power='auto', n_components=1, random_state=None,\n",
            "    svd_solver='auto', tol=0.0, whiten=False)\n",
            "[[-2.22600943]\n",
            " [-0.0181432 ]\n",
            " [ 1.76296611]\n",
            " [-2.73542407]\n",
            " [ 3.02711544]\n",
            " [-2.14702579]\n",
            " [-0.37142473]\n",
            " [ 2.59239883]\n",
            " [-0.39347815]\n",
            " [ 0.50902498]]\n",
            "<class 'numpy.ndarray'>\n"
          ],
          "name": "stdout"
        }
      ]
    },
    {
      "cell_type": "code",
      "metadata": {
        "colab": {
          "base_uri": "https://localhost:8080/"
        },
        "id": "4pwke4nPnkJN",
        "outputId": "7269f7d9-f38c-498c-8806-a2f5133f3cad"
      },
      "source": [
        "#https://scikit-learn.org/stable/modules/generated/sklearn.decomposition.PCA.html\n",
        "print(\"components\", pca.components_)\n",
        "print(\"explained variance\", pca.explained_variance_)\n",
        "print(\"explained variance ratio\", pca.explained_variance_ratio_)\n",
        "print(\"singular values\", pca.singular_values_, \"\\n\", \"number of features\", pca.n_features_, \"\\n\", \"number of samples\", pca.n_samples_, \"\\n\",\"number of components\", pca.n_components_, \"\\n\", \"noise_variance\", pca.noise_variance_, \"\\n\", \"mean\", pca.mean_ )\n",
        "# Note that none of these values can be computed on pca_x."
      ],
      "execution_count": 19,
      "outputs": [
        {
          "output_type": "stream",
          "text": [
            "components [[ 0.508005    0.44660335  0.38377913  0.42845209 -0.46002038]]\n",
            "explained variance [4.0657343]\n",
            "explained variance ratio [0.73183217]\n",
            "singular values [6.04909982] \n",
            " number of features 5 \n",
            " number of samples 10 \n",
            " number of components 1 \n",
            " noise_variance 0.37245531507950796 \n",
            " mean [1.38777878e-17 0.00000000e+00 1.11022302e-16 2.77555756e-18\n",
            " 0.00000000e+00]\n"
          ],
          "name": "stdout"
        }
      ]
    },
    {
      "cell_type": "code",
      "metadata": {
        "id": "lCnUpuxBpULz",
        "colab": {
          "base_uri": "https://localhost:8080/"
        },
        "outputId": "c146be0a-6112-47aa-fc7c-03c8ae84f7d0"
      },
      "source": [
        "sk_result = pd.DataFrame(pca_x, columns=[\"PC1\"])\n",
        "print(type(sk_result))\n",
        "print(sk_result)\n"
      ],
      "execution_count": 17,
      "outputs": [
        {
          "output_type": "stream",
          "text": [
            "<class 'pandas.core.frame.DataFrame'>\n",
            "        PC1\n",
            "0 -2.226009\n",
            "1 -0.018143\n",
            "2  1.762966\n",
            "3 -2.735424\n",
            "4  3.027115\n",
            "5 -2.147026\n",
            "6 -0.371425\n",
            "7  2.592399\n",
            "8 -0.393478\n",
            "9  0.509025\n"
          ],
          "name": "stdout"
        }
      ]
    },
    {
      "cell_type": "code",
      "metadata": {
        "colab": {
          "base_uri": "https://localhost:8080/"
        },
        "id": "VzbYJGiLEi-a",
        "outputId": "15c55993-69f7-4be9-d3f2-89142852e03f"
      },
      "source": [
        "sk_result[\"y-axis\"] = 0.0\n",
        "sk_result[\"label\"] = y\n",
        "print(type(sk_result))\n",
        "print(sk_result)\n"
      ],
      "execution_count": 18,
      "outputs": [
        {
          "output_type": "stream",
          "text": [
            "<class 'pandas.core.frame.DataFrame'>\n",
            "        PC1  y-axis   label\n",
            "0 -2.226009     0.0  Skinny\n",
            "1 -0.018143     0.0  Normal\n",
            "2  1.762966     0.0     Fat\n",
            "3 -2.735424     0.0  Skinny\n",
            "4  3.027115     0.0     Fat\n",
            "5 -2.147026     0.0  Skinny\n",
            "6 -0.371425     0.0  Normal\n",
            "7  2.592399     0.0     Fat\n",
            "8 -0.393478     0.0  Normal\n",
            "9  0.509025     0.0     Fat\n"
          ],
          "name": "stdout"
        }
      ]
    },
    {
      "cell_type": "code",
      "metadata": {
        "colab": {
          "base_uri": "https://localhost:8080/",
          "height": 400
        },
        "id": "x3u26bUUF8wR",
        "outputId": "57389dd5-f302-4a48-a29a-19528dedce31"
      },
      "source": [
        "sns.lmplot(x=\"PC1\",y=\"y-axis\",data=sk_result,fit_reg=False,\n",
        "           scatter_kws = {\"s\": 50},           #marker-size\n",
        "           hue=\"label\")"
      ],
      "execution_count": 23,
      "outputs": [
        {
          "output_type": "execute_result",
          "data": {
            "text/plain": [
              "<seaborn.axisgrid.FacetGrid at 0x7f9428f62dd0>"
            ]
          },
          "metadata": {
            "tags": []
          },
          "execution_count": 23
        },
        {
          "output_type": "display_data",
          "data": {
            "image/png": "[encoded data removed]",
            "text/plain": [
              "<Figure size 432.125x360 with 1 Axes>"
            ]
          },
          "metadata": {
            "tags": [],
            "needs_background": "light"
          }
        }
      ]
    },
    {
      "cell_type": "code",
      "metadata": {
        "id": "vkD8a4N5ILGi"
      },
      "source": [
        ""
      ],
      "execution_count": null,
      "outputs": []
    }
  ]
}