{
  "nbformat": 4,
  "nbformat_minor": 0,
  "metadata": {
    "colab": {
      "name": "Dictionaries.ipynb",
      "provenance": [],
      "authorship_tag": "ABX9TyNXwXIjKbmuncGeqOaa9l2u",
      "include_colab_link": true
    },
    "kernelspec": {
      "name": "python3",
      "display_name": "Python 3"
    },
    "language_info": {
      "name": "python"
    }
  },
  "cells": [
    {
      "cell_type": "markdown",
      "metadata": {
        "id": "view-in-github",
        "colab_type": "text"
      },
      "source": [
        "<a href=\"https://colab.research.google.com/github/ulrikSebastienR/2021-Coding-Basic/blob/main/Dictionaries.ipynb\" target=\"_parent\"><img src=\"https://colab.research.google.com/assets/colab-badge.svg\" alt=\"Open In Colab\"/></a>"
      ]
    },
    {
      "cell_type": "code",
      "metadata": {
        "colab": {
          "base_uri": "https://localhost:8080/"
        },
        "id": "hpOwm86xsB8G",
        "outputId": "1eb04cfc-d140-4cda-bc86-813045bd7a94"
      },
      "source": [
        "# Creating dictionaries, source: help(dict)\n",
        "#1. through iterable\n",
        "a = ('a', 'b', 'c')\n",
        "b = (1,2,3)\n",
        "print(zip(a,b))\n",
        "print(list(zip(a,b)))\n",
        "d = {}\n",
        "for k, v in list(zip(a,b)):\n",
        "  d[k] = v\n",
        "print(type(d), d)  "
      ],
      "execution_count": 1,
      "outputs": [
        {
          "output_type": "stream",
          "text": [
            "<zip object at 0x7f610d699aa0>\n",
            "[('a', 1), ('b', 2), ('c', 3)]\n",
            "<class 'dict'> {'a': 1, 'b': 2, 'c': 3}\n"
          ],
          "name": "stdout"
        }
      ]
    },
    {
      "cell_type": "code",
      "metadata": {
        "colab": {
          "base_uri": "https://localhost:8080/"
        },
        "id": "1RGaepqss2UB",
        "outputId": "845c8f72-56c5-4f6b-f4cb-ea6f143e1fa1"
      },
      "source": [
        "#2. by suppling values directly in a list\n",
        "d = dict([('a',1),('b', 2), ('c',3)])\n",
        "d"
      ],
      "execution_count": 2,
      "outputs": [
        {
          "output_type": "execute_result",
          "data": {
            "text/plain": [
              "{'a': 1, 'b': 2, 'c': 3}"
            ]
          },
          "metadata": {
            "tags": []
          },
          "execution_count": 2
        }
      ]
    },
    {
      "cell_type": "code",
      "metadata": {
        "id": "GfQgn1ZRtQMs"
      },
      "source": [
        ""
      ],
      "execution_count": 2,
      "outputs": []
    }
  ]
}