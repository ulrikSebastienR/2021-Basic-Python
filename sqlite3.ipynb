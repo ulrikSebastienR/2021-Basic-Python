{
  "nbformat": 4,
  "nbformat_minor": 0,
  "metadata": {
    "colab": {
      "name": "sqlite3.ipynb",
      "provenance": [],
      "authorship_tag": "ABX9TyMuBc6RvahLYrjhVaDKEzxJ",
      "include_colab_link": true
    },
    "kernelspec": {
      "name": "python3",
      "display_name": "Python 3"
    },
    "language_info": {
      "name": "python"
    }
  },
  "cells": [
    {
      "cell_type": "markdown",
      "metadata": {
        "id": "view-in-github",
        "colab_type": "text"
      },
      "source": [
        "<a href=\"https://colab.research.google.com/github/ulrikSebastienR/2021-Coding-Basic/blob/main/sqlite3.ipynb\" target=\"_parent\"><img src=\"https://colab.research.google.com/assets/colab-badge.svg\" alt=\"Open In Colab\"/></a>"
      ]
    },
    {
      "cell_type": "code",
      "metadata": {
        "colab": {
          "base_uri": "https://localhost:8080/"
        },
        "id": "-JTyYVB1yJlC",
        "outputId": "ff6c2008-c9b2-4a6c-909f-a6def23d6c73"
      },
      "source": [
        "#https://pythonspot.com/python-database-programming-sqlite-tutorial/\n",
        "import sqlite3 as lite\n",
        "import sys\n",
        "import os\n",
        "\n",
        "print(os.getcwd())"
      ],
      "execution_count": 1,
      "outputs": [
        {
          "output_type": "stream",
          "text": [
            "/content\n"
          ],
          "name": "stdout"
        }
      ]
    },
    {
      "cell_type": "code",
      "metadata": {
        "colab": {
          "base_uri": "https://localhost:8080/"
        },
        "id": "SjhEgFXUykb1",
        "outputId": "e77eaea3-82f4-4200-c41d-89fe57cb47e8"
      },
      "source": [
        "con = lite.connect(\"user.db\") #create a connection object to the database\n",
        "print(con) #SQLite database connection object\n",
        "\n",
        "cur = con.cursor() #return a cursor object for the connection\n",
        "print(cur)\n",
        "\n",
        "# Install sqlite browser for linux"
      ],
      "execution_count": 2,
      "outputs": [
        {
          "output_type": "stream",
          "text": [
            "<sqlite3.Connection object at 0x7f3c82495f10>\n",
            "<sqlite3.Cursor object at 0x7f3c822fcd50>\n"
          ],
          "name": "stdout"
        }
      ]
    },
    {
      "cell_type": "code",
      "metadata": {
        "colab": {
          "base_uri": "https://localhost:8080/"
        },
        "id": "hGtXrDFtyo_w",
        "outputId": "939e98ec-6a8c-4910-a5b4-3d9c78d172d5"
      },
      "source": [
        "with con:\n",
        "\n",
        "    cur = con.cursor()\n",
        "    cur.execute(\"CREATE TABLE Users(Id INT, Name TEXT)\") #Every sqlite command is executed by cur.execute\n",
        "    cur.execute(\"INSERT INTO Users VALUES(1, 'Michelle')\")\n",
        "    cur.execute(\"INSERT INTO Users VALUES(2, 'Sonya')\")\n",
        "    cur.execute(\"INSERT INTO Users VALUES(3, 'Greg')\") #SQL commands accepts string with single quotes ' ' only\n",
        "    # Note that this sql file must be deleted after every run otherwise you will end in error\n",
        "    # table Users already exists\n",
        "\n",
        "    cur.execute(\"CREATE TABLE Jobs(Id INT, Uid INT, Profession TEXT)\")\n",
        "    cur.execute(\"INSERT INTO Jobs VALUES(1,1,'Scientist')\")\n",
        "    cur.execute(\"INSERT INTO Jobs VALUES(2,2, 'Marketeer')\")\n",
        "    cur.execute(\"INSERT INTO Jobs VALUES(3,3, 'Developer')\")\n",
        "\n",
        "    cur.execute(\"SELECT users.name, jobs.profession FROM jobs INNER JOIN users ON users.ID = jobs.uid\")\n",
        "    \n",
        "    cur.execute(\"SELECT * FROM Users\") # executing queries through Python\n",
        "    cur.execute(\"SELECT * FROM Jobs\")\n",
        "\n",
        "    rows = cur.fetchall()\n",
        "    print(rows)\n",
        "\n",
        "    for row in rows:\n",
        "        print(row)"
      ],
      "execution_count": 3,
      "outputs": [
        {
          "output_type": "stream",
          "text": [
            "[(1, 1, 'Scientist'), (2, 2, 'Marketeer'), (3, 3, 'Developer')]\n",
            "(1, 1, 'Scientist')\n",
            "(2, 2, 'Marketeer')\n",
            "(3, 3, 'Developer')\n"
          ],
          "name": "stdout"
        }
      ]
    }
  ]
}