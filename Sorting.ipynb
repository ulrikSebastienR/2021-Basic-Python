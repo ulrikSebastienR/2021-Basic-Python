{
  "nbformat": 4,
  "nbformat_minor": 0,
  "metadata": {
    "colab": {
      "name": "Sorting.ipynb",
      "provenance": [],
      "authorship_tag": "ABX9TyMXPRP/ThJL98HTgBVI8f7h",
      "include_colab_link": true
    },
    "kernelspec": {
      "name": "python3",
      "display_name": "Python 3"
    },
    "language_info": {
      "name": "python"
    }
  },
  "cells": [
    {
      "cell_type": "markdown",
      "metadata": {
        "id": "view-in-github",
        "colab_type": "text"
      },
      "source": [
        "<a href=\"https://colab.research.google.com/github/ulrikSebastienR/2021-Coding-Basic/blob/main/Sorting.ipynb\" target=\"_parent\"><img src=\"https://colab.research.google.com/assets/colab-badge.svg\" alt=\"Open In Colab\"/></a>"
      ]
    },
    {
      "cell_type": "code",
      "metadata": {
        "id": "jtrn0MV24gik"
      },
      "source": [
        "#Contents: 1. Sort a List"
      ],
      "execution_count": null,
      "outputs": []
    },
    {
      "cell_type": "code",
      "metadata": {
        "id": "IwZ_WCNM4nm7"
      },
      "source": [
        "l = [1,34, 43, 53, 12, 342, 5343]\n",
        "# sort and sorted\n",
        "#https://www.programiz.com/python-programming/methods/list/sort"
      ],
      "execution_count": null,
      "outputs": []
    },
    {
      "cell_type": "markdown",
      "metadata": {
        "id": "7jtLCY_w4jhC"
      },
      "source": [
        ""
      ]
    },
    {
      "cell_type": "code",
      "metadata": {
        "id": "5T1U4leR5G36"
      },
      "source": [
        "print(l.sort())# returns none but actually modifies the list\n",
        "print(l)"
      ],
      "execution_count": null,
      "outputs": []
    },
    {
      "cell_type": "code",
      "metadata": {
        "id": "ir3630Cu5LMk"
      },
      "source": [
        "l = [1,34, 43, 53, 12, 342, 5343]\n",
        "print(sorted(l)) # returns the new list but does not modify the original list\n",
        "print(l)"
      ],
      "execution_count": null,
      "outputs": []
    },
    {
      "cell_type": "code",
      "metadata": {
        "id": "aMztUDnA5N6a"
      },
      "source": [
        "# reverse order sorting\n",
        "print(l.sort(reverse=True))\n",
        "l"
      ],
      "execution_count": null,
      "outputs": []
    },
    {
      "cell_type": "code",
      "metadata": {
        "id": "3ZBl_6GR5mk9"
      },
      "source": [
        "l = [1,34, 43, 53, 12, 342, 5343]\n",
        "print(sorted(l, reverse= True))\n",
        "l"
      ],
      "execution_count": null,
      "outputs": []
    },
    {
      "cell_type": "code",
      "metadata": {
        "id": "F_hPfp4D55n8"
      },
      "source": [
        "employee = [\n",
        "    {'name':'Barak Obama', 'age': 58 , 'salary': 200000 },\n",
        "    {'name':'Dick young', 'age': 32, 'salary': 12000 },\n",
        "    {'name':'Cheney Senior', 'age': 65 , 'salary': 1200000}\n",
        "]\n",
        "print(type(employee))\n",
        "\n",
        "def getnames(elem):\n",
        "    return elem['name']\n",
        "\n",
        "def getage(elem):\n",
        "    return elem['age']\n",
        "\n",
        "def salary(elem):\n",
        "    return elem['salary']\n",
        "\n",
        "for i in employee:\n",
        "    print(getnames(i), getage(i), salary(i))\n",
        "\n",
        "print(sorted(employee, key=getage, reverse=True))\n",
        "print(employee.sort(key= lambda x: x.get('name')))\n",
        "print(employee)"
      ],
      "execution_count": null,
      "outputs": []
    },
    {
      "cell_type": "code",
      "metadata": {
        "id": "jq7Rrzn_RCNK"
      },
      "source": [
        "#sort a dictionary \n",
        "orders = {\n",
        "\t'cappuccino': 54,\n",
        "\t'latte': 56,\n",
        "\t'espresso': 72,\n",
        "\t'americano': 48,\n",
        "\t'cortado': 41\n",
        "}\n",
        "\n",
        "print(list((key, value) for (key, value) in sorted(orders.items(),key = lambda x: x[0]))) # by keys\n",
        "print() #by values\n"
      ],
      "execution_count": null,
      "outputs": []
    },
    {
      "cell_type": "code",
      "metadata": {
        "id": "eqQAv1s1RsPZ",
        "colab": {
          "base_uri": "https://localhost:8080/"
        },
        "outputId": "7f0cadd5-c98e-4db1-e8ee-e538a2eba94e"
      },
      "source": [
        "#sort a numpy array\n",
        "import numpy as np\n",
        "a = np.random.randint(4,100,(1,7))\n",
        "print('a', a, type(a))\n",
        "\n",
        "b = np.sort(a)\n",
        "print('using the np.sort function', b, type(b))\n",
        "\n",
        "c = np.argsort(a)\n",
        "print('argsort returns only indices in original array and does not alter original array or provide a new array', c, c.shape, type(c), '\\n', 'a=', a, a.shape)\n"
      ],
      "execution_count": 11,
      "outputs": [
        {
          "output_type": "stream",
          "text": [
            "a [[22 87 89 29 91 99 21]] <class 'numpy.ndarray'>\n",
            "using the np.sort function [[21 22 29 87 89 91 99]] <class 'numpy.ndarray'>\n",
            "argsort returns only indices in original array and does not alter original array or provide a new array [[6 0 3 1 2 4 5]] (1, 7) <class 'numpy.ndarray'> \n",
            " a= [[22 87 89 29 91 99 21]] (1, 7)\n"
          ],
          "name": "stdout"
        }
      ]
    },
    {
      "cell_type": "code",
      "metadata": {
        "id": "mlnvgaki1OGZ",
        "colab": {
          "base_uri": "https://localhost:8080/"
        },
        "outputId": "a04c6d66-798d-40d3-9a23-f72234ae32cb"
      },
      "source": [
        "l  = [\n",
        "      [1,3,5,5,8,0],\n",
        "      [2,34,5,9,10,2],\n",
        "      [3,5,9,10,11,12]\n",
        "]\n",
        "print(type(l))\n",
        "a = np.array(l)\n",
        "print(a,type(a), a.shape)"
      ],
      "execution_count": 19,
      "outputs": [
        {
          "output_type": "stream",
          "text": [
            "<class 'list'>\n",
            "[[ 1  3  5  5  8  0]\n",
            " [ 2 34  5  9 10  2]\n",
            " [ 3  5  9 10 11 12]] <class 'numpy.ndarray'> (3, 6)\n"
          ],
          "name": "stdout"
        }
      ]
    },
    {
      "cell_type": "code",
      "metadata": {
        "colab": {
          "base_uri": "https://localhost:8080/"
        },
        "id": "J1K3twAmXA0I",
        "outputId": "828ffcf2-a418-4dab-a6ed-d06fc5dd79b1"
      },
      "source": [
        "np.partition(a, 2, axis=1)"
      ],
      "execution_count": 20,
      "outputs": [
        {
          "output_type": "execute_result",
          "data": {
            "text/plain": [
              "array([[ 0,  1,  3,  5,  8,  5],\n",
              "       [ 2,  2,  5,  9, 10, 34],\n",
              "       [ 3,  5,  9, 10, 11, 12]])"
            ]
          },
          "metadata": {
            "tags": []
          },
          "execution_count": 20
        }
      ]
    },
    {
      "cell_type": "code",
      "metadata": {
        "id": "19KCHYsyXfOl"
      },
      "source": [
        ""
      ],
      "execution_count": null,
      "outputs": []
    }
  ]
}