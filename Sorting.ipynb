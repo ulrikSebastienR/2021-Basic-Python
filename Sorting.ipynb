{
  "nbformat": 4,
  "nbformat_minor": 0,
  "metadata": {
    "colab": {
      "name": "Sorting.ipynb",
      "provenance": [],
      "authorship_tag": "ABX9TyNI3zhxDeFHmqP4Toc/mmkV",
      "include_colab_link": true
    },
    "kernelspec": {
      "name": "python3",
      "display_name": "Python 3"
    },
    "language_info": {
      "name": "python"
    }
  },
  "cells": [
    {
      "cell_type": "markdown",
      "metadata": {
        "id": "view-in-github",
        "colab_type": "text"
      },
      "source": [
        "<a href=\"https://colab.research.google.com/github/ulrikSebastienR/2021-Coding-Basic/blob/main/Sorting.ipynb\" target=\"_parent\"><img src=\"https://colab.research.google.com/assets/colab-badge.svg\" alt=\"Open In Colab\"/></a>"
      ]
    },
    {
      "cell_type": "code",
      "metadata": {
        "id": "jtrn0MV24gik"
      },
      "source": [
        "#Contents: 1. Sort a List"
      ],
      "execution_count": 1,
      "outputs": []
    },
    {
      "cell_type": "code",
      "metadata": {
        "id": "IwZ_WCNM4nm7"
      },
      "source": [
        "l = [1,34, 43, 53, 12, 342, 5343]\n",
        "# sort and sorted\n",
        "#https://www.programiz.com/python-programming/methods/list/sort"
      ],
      "execution_count": 2,
      "outputs": []
    },
    {
      "cell_type": "markdown",
      "metadata": {
        "id": "7jtLCY_w4jhC"
      },
      "source": [
        ""
      ]
    },
    {
      "cell_type": "code",
      "metadata": {
        "colab": {
          "base_uri": "https://localhost:8080/"
        },
        "id": "5T1U4leR5G36",
        "outputId": "59f6aa38-9607-44c6-e6da-3b71b1c2d103"
      },
      "source": [
        "print(l.sort())# returns none but actually modifies the list\n",
        "print(l)"
      ],
      "execution_count": 3,
      "outputs": [
        {
          "output_type": "stream",
          "text": [
            "None\n",
            "[1, 12, 34, 43, 53, 342, 5343]\n"
          ],
          "name": "stdout"
        }
      ]
    },
    {
      "cell_type": "code",
      "metadata": {
        "colab": {
          "base_uri": "https://localhost:8080/"
        },
        "id": "ir3630Cu5LMk",
        "outputId": "191279ad-f756-4af2-811a-6c62e107c6c9"
      },
      "source": [
        "l = [1,34, 43, 53, 12, 342, 5343]\n",
        "print(sorted(l)) # returns the new list but does not modify the original list\n",
        "print(l)"
      ],
      "execution_count": 4,
      "outputs": [
        {
          "output_type": "stream",
          "text": [
            "[1, 12, 34, 43, 53, 342, 5343]\n",
            "[1, 34, 43, 53, 12, 342, 5343]\n"
          ],
          "name": "stdout"
        }
      ]
    },
    {
      "cell_type": "code",
      "metadata": {
        "colab": {
          "base_uri": "https://localhost:8080/"
        },
        "id": "aMztUDnA5N6a",
        "outputId": "27f08088-7875-4bf3-bc46-6ffd7a6137f3"
      },
      "source": [
        "# reverse order sorting\n",
        "print(l.sort(reverse=True))\n",
        "l"
      ],
      "execution_count": 5,
      "outputs": [
        {
          "output_type": "stream",
          "text": [
            "None\n"
          ],
          "name": "stdout"
        },
        {
          "output_type": "execute_result",
          "data": {
            "text/plain": [
              "[5343, 342, 53, 43, 34, 12, 1]"
            ]
          },
          "metadata": {
            "tags": []
          },
          "execution_count": 5
        }
      ]
    },
    {
      "cell_type": "code",
      "metadata": {
        "colab": {
          "base_uri": "https://localhost:8080/"
        },
        "id": "3ZBl_6GR5mk9",
        "outputId": "0a514ffc-e10e-45e6-b3b1-8b804e9b059a"
      },
      "source": [
        "l = [1,34, 43, 53, 12, 342, 5343]\n",
        "print(sorted(l, reverse= True))\n",
        "l"
      ],
      "execution_count": 6,
      "outputs": [
        {
          "output_type": "stream",
          "text": [
            "[5343, 342, 53, 43, 34, 12, 1]\n"
          ],
          "name": "stdout"
        },
        {
          "output_type": "execute_result",
          "data": {
            "text/plain": [
              "[1, 34, 43, 53, 12, 342, 5343]"
            ]
          },
          "metadata": {
            "tags": []
          },
          "execution_count": 6
        }
      ]
    },
    {
      "cell_type": "code",
      "metadata": {
        "id": "F_hPfp4D55n8",
        "colab": {
          "base_uri": "https://localhost:8080/"
        },
        "outputId": "29b090c0-b416-47e2-eac0-21fa101aed44"
      },
      "source": [
        "employee = [\n",
        "    {'name':'Barak Obama', 'age': 58 , 'salary': 200000 },\n",
        "    {'name':'Dick young', 'age': 32, 'salary': 12000 },\n",
        "    {'name':'Cheney Senior', 'age': 65 , 'salary': 1200000}\n",
        "]\n",
        "print(type(employee))\n",
        "\n",
        "def getnames(elem):\n",
        "    return elem['name']\n",
        "\n",
        "def getage(elem):\n",
        "    return elem['age']\n",
        "\n",
        "def salary(elem):\n",
        "    return elem['salary']\n",
        "\n",
        "for i in employee:\n",
        "    print(getnames(i), getage(i), salary(i))\n",
        "\n",
        "print(sorted(employee, key=getage, reverse=True))\n",
        "print(employee.sort(key= lambda x: x.get('name')))\n",
        "print(employee)"
      ],
      "execution_count": 7,
      "outputs": [
        {
          "output_type": "stream",
          "text": [
            "<class 'list'>\n",
            "Barak Obama 58 200000\n",
            "Dick young 32 12000\n",
            "Cheney Senior 65 1200000\n",
            "[{'name': 'Cheney Senior', 'age': 65, 'salary': 1200000}, {'name': 'Barak Obama', 'age': 58, 'salary': 200000}, {'name': 'Dick young', 'age': 32, 'salary': 12000}]\n",
            "None\n",
            "[{'name': 'Barak Obama', 'age': 58, 'salary': 200000}, {'name': 'Cheney Senior', 'age': 65, 'salary': 1200000}, {'name': 'Dick young', 'age': 32, 'salary': 12000}]\n"
          ],
          "name": "stdout"
        }
      ]
    },
    {
      "cell_type": "code",
      "metadata": {
        "colab": {
          "base_uri": "https://localhost:8080/"
        },
        "id": "jq7Rrzn_RCNK",
        "outputId": "d6a2d756-f4bc-4071-950f-b839d8596903"
      },
      "source": [
        "#sort a dictionary \n",
        "orders = {\n",
        "\t'cappuccino': 54,\n",
        "\t'latte': 56,\n",
        "\t'espresso': 72,\n",
        "\t'americano': 48,\n",
        "\t'cortado': 41\n",
        "}\n",
        "\n",
        "print(list((key, value) for (key, value) in sorted(orders.items(),key = lambda x: x[0]))) # by keys\n",
        "print() #by values\n"
      ],
      "execution_count": 13,
      "outputs": [
        {
          "output_type": "stream",
          "text": [
            "[('americano', 48), ('cappuccino', 54), ('cortado', 41), ('espresso', 72), ('latte', 56)]\n"
          ],
          "name": "stdout"
        }
      ]
    },
    {
      "cell_type": "code",
      "metadata": {
        "colab": {
          "base_uri": "https://localhost:8080/"
        },
        "id": "PBeFu_nCRhzn",
        "outputId": "aa63f7aa-338c-4670-c9c4-db9557d9e878"
      },
      "source": [
        "l = list([1,2, 3, 5,6])\n",
        "l"
      ],
      "execution_count": 10,
      "outputs": [
        {
          "output_type": "execute_result",
          "data": {
            "text/plain": [
              "[1, 2, 3, 5, 6]"
            ]
          },
          "metadata": {
            "tags": []
          },
          "execution_count": 10
        }
      ]
    },
    {
      "cell_type": "code",
      "metadata": {
        "id": "eqQAv1s1RsPZ"
      },
      "source": [
        ""
      ],
      "execution_count": null,
      "outputs": []
    }
  ]
}