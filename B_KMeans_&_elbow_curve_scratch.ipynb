{
  "nbformat": 4,
  "nbformat_minor": 0,
  "metadata": {
    "colab": {
      "name": "B KMeans & elbow curve scratch.ipynb",
      "provenance": [],
      "authorship_tag": "ABX9TyO1J8VDz4S6T5x17hd4HkJE",
      "include_colab_link": true
    },
    "kernelspec": {
      "name": "python3",
      "display_name": "Python 3"
    },
    "language_info": {
      "name": "python"
    }
  },
  "cells": [
    {
      "cell_type": "markdown",
      "metadata": {
        "id": "view-in-github",
        "colab_type": "text"
      },
      "source": [
        "<a href=\"https://colab.research.google.com/github/ulrikSebastienR/2021-Coding-Basic/blob/main/B_KMeans_%26_elbow_curve_scratch.ipynb\" target=\"_parent\"><img src=\"https://colab.research.google.com/assets/colab-badge.svg\" alt=\"Open In Colab\"/></a>"
      ]
    },
    {
      "cell_type": "code",
      "metadata": {
        "colab": {
          "base_uri": "https://localhost:8080/",
          "height": 296
        },
        "id": "UdC1PThfPDQk",
        "outputId": "e4ff23ea-3e0e-465d-f1a4-42a035838a52"
      },
      "source": [
        "B: Basics\n",
        "T: Task\n",
        "P: Project\n",
        "R: Research\n",
        "\n",
        "\n",
        "from sklearn.cluster import KMeans\n",
        "from sklearn import metrics\n",
        "from scipy.spatial.distance import cdist\n",
        "import numpy as np\n",
        "import matplotlib.pyplot as plt\n",
        "\n",
        "#https://www.geeksforgeeks.org/elbow-method-for-optimal-value-of-k-in-kmeans/?ref=leftbar-rightbar\n",
        "\n",
        "x1 = np.array([3, 1, 1, 2, 1, 6, 6, 6, 5, 6, 7, 8, 9, 8, 9, 9, 8])\n",
        "x2 = np.array([5, 4, 5, 6, 5, 8, 6, 7, 6, 7, 1, 2, 1, 2, 3, 2, 3])\n",
        "X = np.array(list(zip(x1,x2)))\n",
        "\n",
        "\"\"\"plt.plot()\n",
        "plt.xlim(0,10)\n",
        "plt.ylim(0,10)\n",
        "plt.title(\"Data Spread\")\n",
        "plt.scatter(x1,x2)\n",
        "plt.show()\"\"\"\n",
        "\n",
        "distortions = []\n",
        "inertias = []\n",
        "mapping1 = {}\n",
        "mapping2 = {}\n",
        "\n",
        "K = range(1,10)\n",
        "\n",
        "for k in K:\n",
        "    kmeans = KMeans(n_clusters=k).fit(X)\n",
        "    kmeans.fit(X)\n",
        "\n",
        "    distortions.append(sum(np.min(cdist(X,kmeans.cluster_centers_),axis=1))/X.shape[0])\n",
        "    inertias.append(kmeans.inertia_)\n",
        "\n",
        "    mapping1[k] = sum(np.min(cdist(X, kmeans.cluster_centers_),axis=1))/X.shape[0]\n",
        "    mapping2[k] = kmeans.inertia_\n",
        "\n",
        "    #for key, val in mapping1.items():\n",
        "     #   print(key,val, \"\\n\")\n",
        "\n",
        "K = list(range(1,10))\n",
        "print(K)\n",
        "\n",
        "plt.plot(K, inertias)\n",
        "plt.xlabel(\"K\")\n",
        "plt.ylabel(\"inertias\")\n",
        "plt.show()"
      ],
      "execution_count": 1,
      "outputs": [
        {
          "output_type": "stream",
          "text": [
            "[1, 2, 3, 4, 5, 6, 7, 8, 9]\n"
          ],
          "name": "stdout"
        },
        {
          "output_type": "display_data",
          "data": {
            "image/png": "[encoded data removed]",
            "text/plain": [
              "<Figure size 432x288 with 1 Axes>"
            ]
          },
          "metadata": {
            "tags": [],
            "needs_background": "light"
          }
        }
      ]
    }
  ]
}