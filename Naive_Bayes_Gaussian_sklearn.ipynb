{
  "nbformat": 4,
  "nbformat_minor": 0,
  "metadata": {
    "colab": {
      "name": "Naive Bayes Gaussian sklearn.ipynb",
      "provenance": [],
      "authorship_tag": "ABX9TyNRifi/dCapA+wRlnaKdigb",
      "include_colab_link": true
    },
    "kernelspec": {
      "name": "python3",
      "display_name": "Python 3"
    },
    "language_info": {
      "name": "python"
    }
  },
  "cells": [
    {
      "cell_type": "markdown",
      "metadata": {
        "id": "view-in-github",
        "colab_type": "text"
      },
      "source": [
        "<a href=\"https://colab.research.google.com/github/ulrikSebastienR/2021-Coding-Basic/blob/main/Naive_Bayes_Gaussian_sklearn.ipynb\" target=\"_parent\"><img src=\"https://colab.research.google.com/assets/colab-badge.svg\" alt=\"Open In Colab\"/></a>"
      ]
    },
    {
      "cell_type": "code",
      "metadata": {
        "colab": {
          "base_uri": "https://localhost:8080/"
        },
        "id": "4WttwGRXeGLf",
        "outputId": "0b930673-9c01-4f74-825e-be9d965c8754"
      },
      "source": [
        "#https://scikit-learn.org/stable/modules/generated/sklearn.naive_bayes.GaussianNB.html#sklearn.naive_bayes.GaussianNB.partial_fit\n",
        "import numpy as np\n",
        "from sklearn import naive_bayes\n",
        "\n",
        "X = np.array([[-1,1],[-2,-1],[-3,-2],[1,1],[2,1],[3,2]])\n",
        "y = np.array([1, 1, 1, 2, 2, 2])\n",
        "\n",
        "clf = naive_bayes.GaussianNB()\n",
        "print(clf)\n",
        "clf.fit(X, y)\n",
        "\n",
        "print(clf.predict([[2,2]]))\n",
        "print(np.unique(y))\n",
        "\n",
        "clf_pf = clf.partial_fit(X,y, np.unique(y))\n",
        "print(clf_pf)\n",
        "\n",
        "print(clf_pf.predict([[-0.8, -1]]))\n",
        "print(clf_pf.predict([[1,2]]))\n"
      ],
      "execution_count": 1,
      "outputs": [
        {
          "output_type": "stream",
          "text": [
            "GaussianNB(priors=None, var_smoothing=1e-09)\n",
            "[2]\n",
            "[1 2]\n",
            "GaussianNB(priors=None, var_smoothing=1e-09)\n",
            "[1]\n",
            "[2]\n"
          ],
          "name": "stdout"
        }
      ]
    }
  ]
}