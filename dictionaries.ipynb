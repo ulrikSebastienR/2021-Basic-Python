{
  "nbformat": 4,
  "nbformat_minor": 0,
  "metadata": {
    "colab": {
      "name": "dictionaries.ipynb",
      "provenance": [],
      "authorship_tag": "ABX9TyPEmdVjUy+vnhXslDyEw1Xr",
      "include_colab_link": true
    },
    "kernelspec": {
      "name": "python3",
      "display_name": "Python 3"
    },
    "language_info": {
      "name": "python"
    }
  },
  "cells": [
    {
      "cell_type": "markdown",
      "metadata": {
        "id": "view-in-github",
        "colab_type": "text"
      },
      "source": [
        "<a href=\"https://colab.research.google.com/github/ulrikSebastienR/2021-Coding-Basic/blob/main/dictionaries.ipynb\" target=\"_parent\"><img src=\"https://colab.research.google.com/assets/colab-badge.svg\" alt=\"Open In Colab\"/></a>"
      ]
    },
    {
      "cell_type": "code",
      "metadata": {
        "colab": {
          "base_uri": "https://localhost:8080/"
        },
        "id": "8YqdSIDbRh6Q",
        "outputId": "b5bf1335-13de-456b-c575-ea81b00f2283"
      },
      "source": [
        "# merge two dictionaries\n",
        "x = {'a':1, 'b':2}\n",
        "y = {'c':3, 'd':4}\n",
        "\n",
        "z = {**x, **y}\n",
        "print(z, len(z), sep='\\n')"
      ],
      "execution_count": 1,
      "outputs": [
        {
          "output_type": "stream",
          "name": "stdout",
          "text": [
            "{'a': 1, 'b': 2, 'c': 3, 'd': 4}\n",
            "4\n"
          ]
        }
      ]
    }
  ]
}