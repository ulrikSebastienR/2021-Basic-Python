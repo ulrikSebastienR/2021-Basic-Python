{
  "nbformat": 4,
  "nbformat_minor": 0,
  "metadata": {
    "colab": {
      "name": "sqlite3 db to pd df.ipynb",
      "provenance": [],
      "collapsed_sections": [],
      "authorship_tag": "ABX9TyMAfuUWOn6N1PlqCuCHYaRm",
      "include_colab_link": true
    },
    "kernelspec": {
      "name": "python3",
      "display_name": "Python 3"
    },
    "language_info": {
      "name": "python"
    }
  },
  "cells": [
    {
      "cell_type": "markdown",
      "metadata": {
        "id": "view-in-github",
        "colab_type": "text"
      },
      "source": [
        "<a href=\"https://colab.research.google.com/github/ulrikSebastienR/2021-Coding-Basic/blob/main/sqlite3_db_to_pd_df.ipynb\" target=\"_parent\"><img src=\"https://colab.research.google.com/assets/colab-badge.svg\" alt=\"Open In Colab\"/></a>"
      ]
    },
    {
      "cell_type": "code",
      "metadata": {
        "colab": {
          "base_uri": "https://localhost:8080/"
        },
        "id": "Gi6KxxxKgjlO",
        "outputId": "bff4e53a-577d-4e70-c6bb-126fedcc1f58"
      },
      "source": [
        "#https://pythonspot.com/sqlite-database-with-pandas/\n",
        "import sqlite3 as lite\n",
        "import sys\n",
        "import pandas as pd\n",
        "\n",
        "con = lite.connect('population.db')\n",
        "cur = con.cursor()\n",
        "\n",
        "with con:\n",
        "    cur = con.cursor()\n",
        "    cur.execute(\"CREATE TABLE Population(id INTEGER PRIMARY KEY, country TEXT, population INT)\")\n",
        "    cur.execute(\"INSERT INTO Population VALUES(NULL, 'Germany', 81197537)\")\n",
        "    cur.execute(\"INSERT INTO Population VALUES(NULL, 'France', 66415161)\")\n",
        "    cur.execute(\"INSERT INTO Population VALUES(NULL, 'Spain', 46439864)\")\n",
        "    cur.execute(\"INSERT INTO Population VALUES(NULL, 'Italy', 60795612)\")\n",
        "    cur.execute(\"INSERT INTO Population VALUES(NULL, 'Spain', 46439864)\")\n",
        "\n",
        "    cur.execute(\"SELECT * FROM Population\")\n",
        "\n",
        "    rows = cur.fetchall()\n",
        "    print(rows)\n",
        "\n",
        "    for row in rows:\n",
        "        print(row)\n",
        "\n",
        "\n"
      ],
      "execution_count": 1,
      "outputs": [
        {
          "output_type": "stream",
          "text": [
            "[(1, 'Germany', 81197537), (2, 'France', 66415161), (3, 'Spain', 46439864), (4, 'Italy', 60795612), (5, 'Spain', 46439864)]\n",
            "(1, 'Germany', 81197537)\n",
            "(2, 'France', 66415161)\n",
            "(3, 'Spain', 46439864)\n",
            "(4, 'Italy', 60795612)\n",
            "(5, 'Spain', 46439864)\n",
            "   country\n",
            "0  Germany\n",
            "1   France\n",
            "2    Spain\n",
            "3    Italy\n",
            "4    Spain\n"
          ],
          "name": "stdout"
        }
      ]
    },
    {
      "cell_type": "code",
      "metadata": {
        "colab": {
          "base_uri": "https://localhost:8080/"
        },
        "id": "LYoPwX3uF4OF",
        "outputId": "66993240-174f-40bc-bdbf-9f988b97fb9f"
      },
      "source": [
        "# turns out one can not directly convert sqlite3 db to pd df and easiest way is to read results of a query.\n",
        "# https://stackoverflow.com/questions/36028759/how-to-open-and-convert-sqlite-database-to-pandas-dataframe\n",
        "query = \"SELECT country FROM Population WHERE population > 50000;\"\n",
        "\n",
        "df1 = pd.read_sql_query(query,con)\n",
        "print(df1)\n",
        "print(type(df1))"
      ],
      "execution_count": 5,
      "outputs": [
        {
          "output_type": "stream",
          "text": [
            "   country\n",
            "0  Germany\n",
            "1   France\n",
            "2    Spain\n",
            "3    Italy\n",
            "4    Spain\n",
            "<class 'pandas.core.frame.DataFrame'>\n"
          ],
          "name": "stdout"
        }
      ]
    },
    {
      "cell_type": "code",
      "metadata": {
        "colab": {
          "base_uri": "https://localhost:8080/"
        },
        "id": "PCngeG3YGEAY",
        "outputId": "241709ad-9ea4-4809-e5e2-5b3b8d84e9ab"
      },
      "source": [
        "# selecting all columns \n",
        "#https://www.sqlitetutorial.net/sqlite-select/\n",
        "query2 = \"SELECT country, population FROM Population;\"\n",
        "              \n",
        "df2 = pd.read_sql_query(query2, con)\n",
        "print(df2)\n",
        "print(type(df2))\n"
      ],
      "execution_count": 9,
      "outputs": [
        {
          "output_type": "stream",
          "text": [
            "   country  population\n",
            "0  Germany    81197537\n",
            "1   France    66415161\n",
            "2    Spain    46439864\n",
            "3    Italy    60795612\n",
            "4    Spain    46439864\n",
            "<class 'pandas.core.frame.DataFrame'>\n"
          ],
          "name": "stdout"
        }
      ]
    },
    {
      "cell_type": "code",
      "metadata": {
        "colab": {
          "base_uri": "https://localhost:8080/"
        },
        "id": "7yNcI25PHyBs",
        "outputId": "ec20e8b6-22ee-4fcf-e0df-6e34e90a75f9"
      },
      "source": [
        "#or simply THE EASIEST WAY\n",
        "#https://www.sqlitetutorial.net/sqlite-select/\n",
        "query2 = \"SELECT * FROM Population;\"\n",
        "              \n",
        "df = pd.read_sql_query(query2, con)\n",
        "print(df)\n",
        "print(type(df))"
      ],
      "execution_count": 10,
      "outputs": [
        {
          "output_type": "stream",
          "text": [
            "   id  country  population\n",
            "0   1  Germany    81197537\n",
            "1   2   France    66415161\n",
            "2   3    Spain    46439864\n",
            "3   4    Italy    60795612\n",
            "4   5    Spain    46439864\n",
            "<class 'pandas.core.frame.DataFrame'>\n"
          ],
          "name": "stdout"
        }
      ]
    },
    {
      "cell_type": "code",
      "metadata": {
        "colab": {
          "base_uri": "https://localhost:8080/"
        },
        "id": "wWrO3JPjNCIQ",
        "outputId": "25a7a22b-4244-466a-93ce-d6cbcceab62e"
      },
      "source": [
        "#Using sqlalchemy engine\n",
        "import sqlalchemy\n",
        "\n",
        "db_name = \"population.db\"\n",
        "table_name = \"Population\"\n",
        "\n",
        "engine = sqlalchemy.create_engine(\"sqlite:///%s\" % db_name, execution_options={\"sqlite_raw_colnames\": True})\n",
        "df3 = pd.read_sql_table(table_name, engine)\n",
        "print(df3)\n",
        "print(type(df3))"
      ],
      "execution_count": 18,
      "outputs": [
        {
          "output_type": "stream",
          "text": [
            "   id  country  population\n",
            "0   1  Germany    81197537\n",
            "1   2   France    66415161\n",
            "2   3    Spain    46439864\n",
            "3   4    Italy    60795612\n",
            "4   5    Spain    46439864\n",
            "<class 'pandas.core.frame.DataFrame'>\n"
          ],
          "name": "stdout"
        }
      ]
    },
    {
      "cell_type": "code",
      "metadata": {
        "id": "K0-U5Oiggr42"
      },
      "source": [
        "#https://www.dataquest.io/blog/python-pandas-databases/"
      ],
      "execution_count": 2,
      "outputs": []
    },
    {
      "cell_type": "code",
      "metadata": {
        "id": "kaYZZOX1GC36"
      },
      "source": [
        ""
      ],
      "execution_count": null,
      "outputs": []
    }
  ]
}